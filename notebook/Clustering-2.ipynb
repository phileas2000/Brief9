{
 "cells": [
  {
   "cell_type": "markdown",
   "id": "6480d24a",
   "metadata": {},
   "source": [
    "<div style=\"display: flex; background-color: RGB(255,114,0);\" >\n",
    "<h1 style=\"margin: auto; padding: 30px; \">Brief 9 -  </h1>\n",
    "</div>"
   ]
  },
  {
   "cell_type": "markdown",
   "id": "3f12c10a",
   "metadata": {},
   "source": [
    "<div style=\"background-color: RGB(51,165,182);\" >\n",
    "<h2 style=\"margin: auto; padding: 20px; color:#fff; \">Partie 3 - Clustering </h2>\n",
    "</div>"
   ]
  },
  {
   "cell_type": "markdown",
   "id": "3a03685b",
   "metadata": {},
   "source": [
    "<div style=\"border: 1px solid RGB(51,165,182);\" >\n",
    "<h3 style=\"margin: auto; padding: 20px; color: RGB(51,165,182); \"> 3.1 - Importation des librairies</h3>\n",
    "</div>"
   ]
  },
  {
   "cell_type": "code",
   "execution_count": 1,
   "id": "11093921",
   "metadata": {},
   "outputs": [],
   "source": [
    "%load_ext autoreload\n",
    "%autoreload 2\n",
    "import pandas as pd\n",
    "import numpy as np\n",
    "from pathlib import Path\n",
    "import matplotlib.pyplot as plt\n",
    "import seaborn as sns\n",
    "from mpl_toolkits.mplot3d import Axes3D\n",
    "import warnings\n",
    "warnings.filterwarnings(\"ignore\")\n",
    "from sklearn.cluster import KMeans\n",
    "from sklearn.metrics import silhouette_score\n",
    "from sklearn.preprocessing import RobustScaler\n",
    "from sklearn.preprocessing import MaxAbsScaler\n",
    "from sklearn.preprocessing import StandardScaler\n",
    "from sklearn.cluster import MeanShift, estimate_bandwidth\n",
    "from sklearn.cluster import DBSCAN \n",
    "from sklearn.cluster import AgglomerativeClustering\n",
    "from sklearn.decomposition import PCA\n",
    "from scipy.cluster.hierarchy import linkage,dendrogram"
   ]
  },
  {
   "cell_type": "code",
   "execution_count": 2,
   "id": "cefa23fa",
   "metadata": {},
   "outputs": [],
   "source": [
    "data = pd.read_csv(r'../data/CURATED/df_final.csv', encoding=\"UTF8\", sep=',')"
   ]
  },
  {
   "cell_type": "code",
   "execution_count": 12,
   "id": "5584754d",
   "metadata": {},
   "outputs": [],
   "source": [
    "df = data.copy()"
   ]
  },
  {
   "cell_type": "markdown",
   "id": "3b3018cf",
   "metadata": {},
   "source": [
    "<div style=\"background-color: RGB(51,165,182);\" >\n",
    "<h2 style=\"margin: auto; padding: 20px; color:#fff; \">Clustering Analyzis</h2>\n",
    "</div>"
   ]
  },
  {
   "cell_type": "markdown",
   "id": "275650cd",
   "metadata": {},
   "source": [
    "<div style=\"border: 1px solid RGB(51,165,182);\" >\n",
    "<h3 style=\"margin: auto; padding: 20px; color: RGB(51,165,182); \">1 - Kmeans</h3>\n",
    "</div>"
   ]
  },
  {
   "cell_type": "code",
   "execution_count": 13,
   "id": "a1acfa8f",
   "metadata": {},
   "outputs": [],
   "source": [
    "df.drop(['local','Id'], axis= 1, inplace=True)"
   ]
  },
  {
   "cell_type": "code",
   "execution_count": 14,
   "id": "69e20f4e",
   "metadata": {},
   "outputs": [],
   "source": [
    "for col in ['valeur','surf_bati','surf terr', 'prix_m2','nbr_piece']:                               #, 'prix_m2','nbr_piece'\n",
    "    df[col]=np.log10(df[col])\n",
    "df.replace([np.inf, -np.inf], 0, inplace=True)"
   ]
  },
  {
   "cell_type": "code",
   "execution_count": 15,
   "id": "ace8b126",
   "metadata": {},
   "outputs": [],
   "source": [
    "scaler = RobustScaler()\n",
    "XX = scaler.fit_transform(df[['valeur','surf_bati','surf terr', 'prix_m2','nbr_piece']])\n",
    "#XX=scaler.fit_transform(df)"
   ]
  },
  {
   "cell_type": "code",
   "execution_count": 16,
   "id": "ff3622a6",
   "metadata": {},
   "outputs": [],
   "source": [
    "YY=pd.DataFrame(XX, columns=[['valeur','surf_bati','surf terr', 'prix_m2','nbr_piece']])"
   ]
  },
  {
   "cell_type": "code",
   "execution_count": 17,
   "id": "fb291096",
   "metadata": {},
   "outputs": [
    {
     "data": {
      "text/html": [
       "<div>\n",
       "<style scoped>\n",
       "    .dataframe tbody tr th:only-of-type {\n",
       "        vertical-align: middle;\n",
       "    }\n",
       "\n",
       "    .dataframe tbody tr th {\n",
       "        vertical-align: top;\n",
       "    }\n",
       "\n",
       "    .dataframe thead tr th {\n",
       "        text-align: left;\n",
       "    }\n",
       "</style>\n",
       "<table border=\"1\" class=\"dataframe\">\n",
       "  <thead>\n",
       "    <tr>\n",
       "      <th></th>\n",
       "      <th>valeur</th>\n",
       "      <th>surf_bati</th>\n",
       "      <th>surf terr</th>\n",
       "      <th>prix_m2</th>\n",
       "      <th>nbr_piece</th>\n",
       "    </tr>\n",
       "  </thead>\n",
       "  <tbody>\n",
       "    <tr>\n",
       "      <th>0</th>\n",
       "      <td>0.107144</td>\n",
       "      <td>-0.556535</td>\n",
       "      <td>-0.784650</td>\n",
       "      <td>0.559685</td>\n",
       "      <td>-0.756471</td>\n",
       "    </tr>\n",
       "    <tr>\n",
       "      <th>1</th>\n",
       "      <td>-0.771699</td>\n",
       "      <td>-0.350742</td>\n",
       "      <td>-0.784650</td>\n",
       "      <td>-0.380618</td>\n",
       "      <td>-0.313964</td>\n",
       "    </tr>\n",
       "    <tr>\n",
       "      <th>2</th>\n",
       "      <td>-0.625257</td>\n",
       "      <td>-0.100980</td>\n",
       "      <td>-0.057203</td>\n",
       "      <td>-0.436379</td>\n",
       "      <td>-0.313964</td>\n",
       "    </tr>\n",
       "    <tr>\n",
       "      <th>3</th>\n",
       "      <td>-0.082729</td>\n",
       "      <td>1.054987</td>\n",
       "      <td>0.347901</td>\n",
       "      <td>-0.815474</td>\n",
       "      <td>0.610740</td>\n",
       "    </tr>\n",
       "    <tr>\n",
       "      <th>4</th>\n",
       "      <td>-0.940754</td>\n",
       "      <td>-0.632989</td>\n",
       "      <td>-0.784650</td>\n",
       "      <td>-0.320796</td>\n",
       "      <td>-0.756471</td>\n",
       "    </tr>\n",
       "    <tr>\n",
       "      <th>...</th>\n",
       "      <td>...</td>\n",
       "      <td>...</td>\n",
       "      <td>...</td>\n",
       "      <td>...</td>\n",
       "      <td>...</td>\n",
       "    </tr>\n",
       "    <tr>\n",
       "      <th>733389</th>\n",
       "      <td>-0.155650</td>\n",
       "      <td>-5.765934</td>\n",
       "      <td>0.068055</td>\n",
       "      <td>-1.305355</td>\n",
       "      <td>-1.512942</td>\n",
       "    </tr>\n",
       "    <tr>\n",
       "      <th>733390</th>\n",
       "      <td>-1.270972</td>\n",
       "      <td>-1.393766</td>\n",
       "      <td>-0.784650</td>\n",
       "      <td>-0.047289</td>\n",
       "      <td>-1.512942</td>\n",
       "    </tr>\n",
       "    <tr>\n",
       "      <th>733391</th>\n",
       "      <td>-1.328786</td>\n",
       "      <td>-1.835249</td>\n",
       "      <td>0.118772</td>\n",
       "      <td>0.231165</td>\n",
       "      <td>-1.512942</td>\n",
       "    </tr>\n",
       "    <tr>\n",
       "      <th>733392</th>\n",
       "      <td>0.803632</td>\n",
       "      <td>0.209184</td>\n",
       "      <td>0.152095</td>\n",
       "      <td>0.610221</td>\n",
       "      <td>0.243529</td>\n",
       "    </tr>\n",
       "    <tr>\n",
       "      <th>733393</th>\n",
       "      <td>0.542399</td>\n",
       "      <td>0.925574</td>\n",
       "      <td>0.207345</td>\n",
       "      <td>-0.159320</td>\n",
       "      <td>0.243529</td>\n",
       "    </tr>\n",
       "  </tbody>\n",
       "</table>\n",
       "<p>733394 rows × 5 columns</p>\n",
       "</div>"
      ],
      "text/plain": [
       "          valeur surf_bati surf terr   prix_m2 nbr_piece\n",
       "0       0.107144 -0.556535 -0.784650  0.559685 -0.756471\n",
       "1      -0.771699 -0.350742 -0.784650 -0.380618 -0.313964\n",
       "2      -0.625257 -0.100980 -0.057203 -0.436379 -0.313964\n",
       "3      -0.082729  1.054987  0.347901 -0.815474  0.610740\n",
       "4      -0.940754 -0.632989 -0.784650 -0.320796 -0.756471\n",
       "...          ...       ...       ...       ...       ...\n",
       "733389 -0.155650 -5.765934  0.068055 -1.305355 -1.512942\n",
       "733390 -1.270972 -1.393766 -0.784650 -0.047289 -1.512942\n",
       "733391 -1.328786 -1.835249  0.118772  0.231165 -1.512942\n",
       "733392  0.803632  0.209184  0.152095  0.610221  0.243529\n",
       "733393  0.542399  0.925574  0.207345 -0.159320  0.243529\n",
       "\n",
       "[733394 rows x 5 columns]"
      ]
     },
     "execution_count": 17,
     "metadata": {},
     "output_type": "execute_result"
    }
   ],
   "source": [
    "YY"
   ]
  },
  {
   "cell_type": "code",
   "execution_count": null,
   "id": "c2cb97ed",
   "metadata": {},
   "outputs": [],
   "source": [
    "wcss=[]\n",
    "for i in range(1,11):\n",
    "    kms = KMeans(n_clusters= i, init='k-means++', random_state=0)\n",
    "    kms.fit(XX)\n",
    "    wcss.append(kms.inertia_)\n",
    "\n",
    "plt.plot(range(1,11), wcss)\n",
    "plt.title('The Elbow Method')\n",
    "plt.xlabel('no of clusters')\n",
    "plt.ylabel('wcss')\n",
    "plt.show()"
   ]
  },
  {
   "cell_type": "code",
   "execution_count": null,
   "id": "d5b4e02a",
   "metadata": {},
   "outputs": [],
   "source": [
    "silhouette_coefficients = []\n",
    "  \n",
    "for k in range(2, 11):\n",
    "    kmeans = KMeans(n_clusters=k, n_init=10, init='k-means++' )\n",
    "    kmeans.fit(XX)\n",
    "    score = silhouette_score(XX, kmeans.labels_)\n",
    "    silhouette_coefficients.append(score)\n",
    "\n",
    "plt.style.use(\"fivethirtyeight\")\n",
    "plt.plot(range(2, 15), silhouette_coefficients)\n",
    "plt.xticks(range(2, 15))\n",
    "#plt.axvline(x=2, color='red', ls=\"--\")\n",
    "plt.xlabel(\"Number of Clusters\")\n",
    "plt.ylabel(\"Silhouette Coefficient\")\n",
    "plt.show()"
   ]
  },
  {
   "cell_type": "code",
   "execution_count": 18,
   "id": "efa36f7e",
   "metadata": {},
   "outputs": [],
   "source": [
    "clusters = [3,4,5,6]\n",
    "cluster_centers = {}\n",
    "\n",
    "for c in clusters:\n",
    "    kms = KMeans(n_clusters=c, init='k-means++').fit(YY)\n",
    "    YY['cluster' + str(c)] = kms.labels_\n",
    "    cluster_centers[str(c)] = kms.cluster_centers_"
   ]
  },
  {
   "cell_type": "code",
   "execution_count": 19,
   "id": "0625482f",
   "metadata": {},
   "outputs": [
    {
     "ename": "TypeError",
     "evalue": "only integer scalar arrays can be converted to a scalar index",
     "output_type": "error",
     "traceback": [
      "\u001b[1;31m---------------------------------------------------------------------------\u001b[0m",
      "\u001b[1;31mTypeError\u001b[0m                                 Traceback (most recent call last)",
      "\u001b[1;32m~\\AppData\\Local\\Temp/ipykernel_11804/702915467.py\u001b[0m in \u001b[0;36m<module>\u001b[1;34m\u001b[0m\n\u001b[0;32m      2\u001b[0m \u001b[1;32mfor\u001b[0m \u001b[0mi\u001b[0m\u001b[1;33m,\u001b[0m \u001b[0mc\u001b[0m \u001b[1;32min\u001b[0m \u001b[0menumerate\u001b[0m\u001b[1;33m(\u001b[0m\u001b[0mclusters\u001b[0m\u001b[1;33m)\u001b[0m\u001b[1;33m:\u001b[0m\u001b[1;33m\u001b[0m\u001b[1;33m\u001b[0m\u001b[0m\n\u001b[0;32m      3\u001b[0m     \u001b[0mplt\u001b[0m\u001b[1;33m.\u001b[0m\u001b[0msubplot\u001b[0m\u001b[1;33m(\u001b[0m\u001b[1;36m2\u001b[0m\u001b[1;33m,\u001b[0m\u001b[1;36m2\u001b[0m\u001b[1;33m,\u001b[0m\u001b[0mi\u001b[0m\u001b[1;33m+\u001b[0m\u001b[1;36m1\u001b[0m\u001b[1;33m)\u001b[0m\u001b[1;33m\u001b[0m\u001b[1;33m\u001b[0m\u001b[0m\n\u001b[1;32m----> 4\u001b[1;33m     \u001b[0msns\u001b[0m\u001b[1;33m.\u001b[0m\u001b[0mscatterplot\u001b[0m\u001b[1;33m(\u001b[0m\u001b[0mYY\u001b[0m\u001b[1;33m[\u001b[0m\u001b[1;34m'valeur'\u001b[0m\u001b[1;33m]\u001b[0m\u001b[1;33m,\u001b[0m\u001b[0mYY\u001b[0m\u001b[1;33m[\u001b[0m\u001b[1;34m'surf_bati'\u001b[0m\u001b[1;33m]\u001b[0m\u001b[1;33m,\u001b[0m \u001b[0mYY\u001b[0m\u001b[1;33m[\u001b[0m\u001b[1;34m'cluster'\u001b[0m \u001b[1;33m+\u001b[0m \u001b[0mstr\u001b[0m\u001b[1;33m(\u001b[0m\u001b[0mc\u001b[0m\u001b[1;33m)\u001b[0m\u001b[1;33m]\u001b[0m\u001b[1;33m,\u001b[0m \u001b[0ms\u001b[0m\u001b[1;33m=\u001b[0m\u001b[1;36m50\u001b[0m\u001b[1;33m,\u001b[0m \u001b[0mpalette\u001b[0m\u001b[1;33m=\u001b[0m\u001b[0msns\u001b[0m\u001b[1;33m.\u001b[0m\u001b[0mcolor_palette\u001b[0m\u001b[1;33m(\u001b[0m\u001b[1;34m\"hls\"\u001b[0m\u001b[1;33m,\u001b[0m \u001b[0mc\u001b[0m\u001b[1;33m)\u001b[0m\u001b[1;33m)\u001b[0m\u001b[1;33m\u001b[0m\u001b[1;33m\u001b[0m\u001b[0m\n\u001b[0m\u001b[0;32m      5\u001b[0m     \u001b[0msns\u001b[0m\u001b[1;33m.\u001b[0m\u001b[0mscatterplot\u001b[0m\u001b[1;33m(\u001b[0m\u001b[0mcluster_centers\u001b[0m\u001b[1;33m[\u001b[0m\u001b[0mstr\u001b[0m\u001b[1;33m(\u001b[0m\u001b[0mc\u001b[0m\u001b[1;33m)\u001b[0m\u001b[1;33m]\u001b[0m\u001b[1;33m[\u001b[0m\u001b[1;33m:\u001b[0m\u001b[1;33m,\u001b[0m\u001b[1;36m0\u001b[0m\u001b[1;33m]\u001b[0m\u001b[1;33m,\u001b[0m \u001b[0mcluster_centers\u001b[0m\u001b[1;33m[\u001b[0m\u001b[0mstr\u001b[0m\u001b[1;33m(\u001b[0m\u001b[0mc\u001b[0m\u001b[1;33m)\u001b[0m\u001b[1;33m]\u001b[0m\u001b[1;33m[\u001b[0m\u001b[1;33m:\u001b[0m\u001b[1;33m,\u001b[0m\u001b[1;36m1\u001b[0m\u001b[1;33m]\u001b[0m\u001b[1;33m,\u001b[0m \u001b[0mcolor\u001b[0m\u001b[1;33m=\u001b[0m\u001b[1;34m'black'\u001b[0m\u001b[1;33m,\u001b[0m \u001b[0ms\u001b[0m\u001b[1;33m=\u001b[0m\u001b[1;36m100\u001b[0m\u001b[1;33m)\u001b[0m\u001b[1;33m\u001b[0m\u001b[1;33m\u001b[0m\u001b[0m\n\u001b[0;32m      6\u001b[0m     \u001b[0mplt\u001b[0m\u001b[1;33m.\u001b[0m\u001b[0mtitle\u001b[0m\u001b[1;33m(\u001b[0m\u001b[1;34m'Number of clusters: '\u001b[0m \u001b[1;33m+\u001b[0m \u001b[0mstr\u001b[0m\u001b[1;33m(\u001b[0m\u001b[0mc\u001b[0m\u001b[1;33m)\u001b[0m\u001b[1;33m)\u001b[0m\u001b[1;33m\u001b[0m\u001b[1;33m\u001b[0m\u001b[0m\n",
      "\u001b[1;32mC:\\ProgramData\\Anaconda3\\lib\\site-packages\\pandas\\core\\frame.py\u001b[0m in \u001b[0;36m__getitem__\u001b[1;34m(self, key)\u001b[0m\n\u001b[0;32m   2876\u001b[0m                 \u001b[1;32mif\u001b[0m \u001b[0mself\u001b[0m\u001b[1;33m.\u001b[0m\u001b[0mcolumns\u001b[0m\u001b[1;33m.\u001b[0m\u001b[0mnlevels\u001b[0m \u001b[1;33m>\u001b[0m \u001b[1;36m1\u001b[0m\u001b[1;33m:\u001b[0m\u001b[1;33m\u001b[0m\u001b[1;33m\u001b[0m\u001b[0m\n\u001b[0;32m   2877\u001b[0m                     \u001b[1;32mreturn\u001b[0m \u001b[0mself\u001b[0m\u001b[1;33m.\u001b[0m\u001b[0m_getitem_multilevel\u001b[0m\u001b[1;33m(\u001b[0m\u001b[0mkey\u001b[0m\u001b[1;33m)\u001b[0m\u001b[1;33m\u001b[0m\u001b[1;33m\u001b[0m\u001b[0m\n\u001b[1;32m-> 2878\u001b[1;33m                 \u001b[1;32mreturn\u001b[0m \u001b[0mself\u001b[0m\u001b[1;33m.\u001b[0m\u001b[0m_get_item_cache\u001b[0m\u001b[1;33m(\u001b[0m\u001b[0mkey\u001b[0m\u001b[1;33m)\u001b[0m\u001b[1;33m\u001b[0m\u001b[1;33m\u001b[0m\u001b[0m\n\u001b[0m\u001b[0;32m   2879\u001b[0m \u001b[1;33m\u001b[0m\u001b[0m\n\u001b[0;32m   2880\u001b[0m         \u001b[1;31m# Do we have a slicer (on rows)?\u001b[0m\u001b[1;33m\u001b[0m\u001b[1;33m\u001b[0m\u001b[1;33m\u001b[0m\u001b[0m\n",
      "\u001b[1;32mC:\\ProgramData\\Anaconda3\\lib\\site-packages\\pandas\\core\\generic.py\u001b[0m in \u001b[0;36m_get_item_cache\u001b[1;34m(self, item)\u001b[0m\n\u001b[0;32m   3539\u001b[0m \u001b[1;33m\u001b[0m\u001b[0m\n\u001b[0;32m   3540\u001b[0m             \u001b[0mloc\u001b[0m \u001b[1;33m=\u001b[0m \u001b[0mself\u001b[0m\u001b[1;33m.\u001b[0m\u001b[0mcolumns\u001b[0m\u001b[1;33m.\u001b[0m\u001b[0mget_loc\u001b[0m\u001b[1;33m(\u001b[0m\u001b[0mitem\u001b[0m\u001b[1;33m)\u001b[0m\u001b[1;33m\u001b[0m\u001b[1;33m\u001b[0m\u001b[0m\n\u001b[1;32m-> 3541\u001b[1;33m             \u001b[0mvalues\u001b[0m \u001b[1;33m=\u001b[0m \u001b[0mself\u001b[0m\u001b[1;33m.\u001b[0m\u001b[0m_mgr\u001b[0m\u001b[1;33m.\u001b[0m\u001b[0miget\u001b[0m\u001b[1;33m(\u001b[0m\u001b[0mloc\u001b[0m\u001b[1;33m)\u001b[0m\u001b[1;33m\u001b[0m\u001b[1;33m\u001b[0m\u001b[0m\n\u001b[0m\u001b[0;32m   3542\u001b[0m             \u001b[0mres\u001b[0m \u001b[1;33m=\u001b[0m \u001b[0mself\u001b[0m\u001b[1;33m.\u001b[0m\u001b[0m_box_col_values\u001b[0m\u001b[1;33m(\u001b[0m\u001b[0mvalues\u001b[0m\u001b[1;33m,\u001b[0m \u001b[0mloc\u001b[0m\u001b[1;33m)\u001b[0m\u001b[1;33m\u001b[0m\u001b[1;33m\u001b[0m\u001b[0m\n\u001b[0;32m   3543\u001b[0m \u001b[1;33m\u001b[0m\u001b[0m\n",
      "\u001b[1;32mC:\\ProgramData\\Anaconda3\\lib\\site-packages\\pandas\\core\\internals\\managers.py\u001b[0m in \u001b[0;36miget\u001b[1;34m(self, i)\u001b[0m\n\u001b[0;32m    986\u001b[0m         \u001b[0mReturn\u001b[0m \u001b[0mthe\u001b[0m \u001b[0mdata\u001b[0m \u001b[1;32mas\u001b[0m \u001b[0ma\u001b[0m \u001b[0mSingleBlockManager\u001b[0m\u001b[1;33m.\u001b[0m\u001b[1;33m\u001b[0m\u001b[1;33m\u001b[0m\u001b[0m\n\u001b[0;32m    987\u001b[0m         \"\"\"\n\u001b[1;32m--> 988\u001b[1;33m         \u001b[0mblock\u001b[0m \u001b[1;33m=\u001b[0m \u001b[0mself\u001b[0m\u001b[1;33m.\u001b[0m\u001b[0mblocks\u001b[0m\u001b[1;33m[\u001b[0m\u001b[0mself\u001b[0m\u001b[1;33m.\u001b[0m\u001b[0mblknos\u001b[0m\u001b[1;33m[\u001b[0m\u001b[0mi\u001b[0m\u001b[1;33m]\u001b[0m\u001b[1;33m]\u001b[0m\u001b[1;33m\u001b[0m\u001b[1;33m\u001b[0m\u001b[0m\n\u001b[0m\u001b[0;32m    989\u001b[0m         \u001b[0mvalues\u001b[0m \u001b[1;33m=\u001b[0m \u001b[0mblock\u001b[0m\u001b[1;33m.\u001b[0m\u001b[0miget\u001b[0m\u001b[1;33m(\u001b[0m\u001b[0mself\u001b[0m\u001b[1;33m.\u001b[0m\u001b[0mblklocs\u001b[0m\u001b[1;33m[\u001b[0m\u001b[0mi\u001b[0m\u001b[1;33m]\u001b[0m\u001b[1;33m)\u001b[0m\u001b[1;33m\u001b[0m\u001b[1;33m\u001b[0m\u001b[0m\n\u001b[0;32m    990\u001b[0m \u001b[1;33m\u001b[0m\u001b[0m\n",
      "\u001b[1;31mTypeError\u001b[0m: only integer scalar arrays can be converted to a scalar index"
     ]
    },
    {
     "data": {
      "image/png": "[encoded data removed]",
      "text/plain": [
       "<Figure size 1440x1080 with 1 Axes>"
      ]
     },
     "metadata": {
      "needs_background": "light"
     },
     "output_type": "display_data"
    }
   ],
   "source": [
    "plt.figure(figsize=(20,15))\n",
    "for i, c in enumerate(clusters):\n",
    "    plt.subplot(2,2,i+1)\n",
    "    sns.scatterplot(YY['valeur'],YY['surf_bati'], YY['cluster' + str(c)], s=50, palette=sns.color_palette(\"hls\", c))\n",
    "    sns.scatterplot(cluster_centers[str(c)][:,0], cluster_centers[str(c)][:,1], color='black', s=100)\n",
    "    plt.title('Number of clusters: ' + str(c))\n",
    "    \n",
    "plt.show()"
   ]
  },
  {
   "cell_type": "code",
   "execution_count": null,
   "id": "8e966833",
   "metadata": {},
   "outputs": [],
   "source": [
    "plt.figure(figsize=(20,15))\n",
    "for i, c in enumerate(clusters):\n",
    "    plt.subplot(2,2,i+1)\n",
    "    sns.scatterplot(YY['valeur'],YY['surf terr'], YY['cluster' + str(c)], s=50, palette=sns.color_palette(\"hls\", c))\n",
    "    sns.scatterplot(cluster_centers[str(c)][:,0], cluster_centers[str(c)][:,2], color='black', s=100)\n",
    "    plt.title('Number of clusters: ' + str(c))\n",
    "    \n",
    "plt.show()"
   ]
  },
  {
   "cell_type": "code",
   "execution_count": null,
   "id": "01cef358",
   "metadata": {},
   "outputs": [],
   "source": [
    "plt.figure(figsize=(20,15))\n",
    "for i, c in enumerate(clusters):\n",
    "    plt.subplot(2,2,i+1)\n",
    "    sns.scatterplot(YY['valeur'],YY['prix_m2'], YY['cluster' + str(c)], s=50, palette=sns.color_palette(\"hls\", c))\n",
    "    sns.scatterplot(cluster_centers[str(c)][:,0], cluster_centers[str(c)][:,3], color='black', s=100)\n",
    "    plt.title('Number of clusters: ' + str(c))\n",
    "    \n",
    "plt.show()"
   ]
  },
  {
   "cell_type": "code",
   "execution_count": null,
   "id": "2975ff02",
   "metadata": {},
   "outputs": [],
   "source": [
    "kmean = KMeans(n_clusters=7, n_init=10, init='k-means++')\n",
    "yy_kmeans= kmean.fit_predict(XX)"
   ]
  },
  {
   "cell_type": "code",
   "execution_count": null,
   "id": "4acdacc5",
   "metadata": {
    "scrolled": false
   },
   "outputs": [],
   "source": [
    "for i in range (1,5):\n",
    "    fig = plt.figure(figsize=(14, 6))\n",
    "    plt.scatter(XX[yy_kmeans == 0, 0], XX[yy_kmeans == 0, i], s = 4, c = 'red', label = 'Cluster 1')\n",
    "    plt.scatter(XX[yy_kmeans == 1, 0], XX[yy_kmeans == 1, i], s = 4, c = 'blue', label = 'Cluster 2')\n",
    "    plt.scatter(XX[yy_kmeans == 2, 0], XX[yy_kmeans == 2, i], s = 4, c = 'green', label = 'Cluster 3')\n",
    "    plt.scatter(XX[yy_kmeans == 3, 0], XX[yy_kmeans == 3, i], s = 4, c = 'cyan', label = 'Cluster 4')\n",
    "    plt.scatter(XX[yy_kmeans == 4, 0], XX[yy_kmeans == 4, i], s = 4, c = 'magenta', label = 'Cluster 5')\n",
    "    plt.scatter(XX[yy_kmeans == 5, 0], XX[yy_kmeans == 5, i], s = 4, c = 'black', label = 'Cluster 6')\n",
    "    plt.scatter(XX[yy_kmeans == 6, 0], XX[yy_kmeans == 6, i], s = 4, c = 'orange', label = 'Cluster 7')\n",
    "    plt.scatter(kmean.cluster_centers_[:, 0], kmean.cluster_centers_[:, i], s = 50, c = 'yellow', label = 'Centroids')\n",
    "    plt.title('Clusters of customers')\n",
    "    plt.legend()\n",
    "    plt.show()"
   ]
  },
  {
   "cell_type": "code",
   "execution_count": null,
   "id": "a5f05416",
   "metadata": {},
   "outputs": [],
   "source": [
    "for i in range (0,3):\n",
    "    fig = plt.figure(figsize=(14, 6))\n",
    "    plt.scatter(XX[yy_kmeans == 0, 3], XX[yy_kmeans == 0, i], s = 4, c = 'red', label = 'Cluster 1')\n",
    "    plt.scatter(XX[yy_kmeans == 1, 3], XX[yy_kmeans == 1, i], s = 4, c = 'blue', label = 'Cluster 2')\n",
    "    plt.scatter(XX[yy_kmeans == 2, 3], XX[yy_kmeans == 2, i], s = 4, c = 'green', label = 'Cluster 3')\n",
    "    plt.scatter(XX[yy_kmeans == 3, 3], XX[yy_kmeans == 3, i], s = 4, c = 'cyan', label = 'Cluster 4')\n",
    "    plt.scatter(XX[yy_kmeans == 4, 3], XX[yy_kmeans == 4, i], s = 4, c = 'magenta', label = 'Cluster 5')\n",
    "    plt.scatter(XX[yy_kmeans == 5, 3], XX[yy_kmeans == 5, i], s = 4, c = 'black', label = 'Cluster 6')\n",
    "    plt.scatter(XX[yy_kmeans == 6, 3], XX[yy_kmeans == 6, i], s = 4, c = 'orange', label = 'Cluster 7')\n",
    "    plt.scatter(kmean.cluster_centers_[:, 3], kmean.cluster_centers_[:, i], s = 50, c = 'yellow', label = 'Centroids')\n",
    "    plt.title('Clusters of customers')\n",
    "    plt.legend()\n",
    "    plt.show()"
   ]
  },
  {
   "cell_type": "code",
   "execution_count": null,
   "id": "2b351365",
   "metadata": {},
   "outputs": [],
   "source": [
    "fig = plt.figure(figsize=(7, 7))\n",
    "ax = Axes3D(fig, rect=[0, 0, .99, 1], elev=20, azim=210)\n",
    "ax.scatter(YY['Valeur fonciere'],\n",
    "           YY['Surface reelle bati'],\n",
    "           YY['Nombre pieces principales'],\n",
    "           c=YY['cluster6'],\n",
    "           s=15,  cmap=plt.cm.Set1)\n",
    "\n",
    "ax.w_xaxis.set_ticklabels([])\n",
    "ax.w_yaxis.set_ticklabels([])\n",
    "ax.w_zaxis.set_ticklabels([])\n",
    "ax.set_xlabel('Valeur fonciere')\n",
    "ax.set_ylabel('Surface reelle bati')\n",
    "ax.set_zlabel('nb de piece')\n",
    "ax.set_title('3D view of K-Means 6 clusters')\n",
    "ax.dist = 12\n",
    "\n",
    "plt.show()"
   ]
  },
  {
   "cell_type": "code",
   "execution_count": null,
   "id": "816cc220",
   "metadata": {},
   "outputs": [],
   "source": [
    "fig = plt.figure(figsize=(7, 7))\n",
    "ax = Axes3D(fig, rect=[0, 0, .99, 1], elev=20, azim=210)\n",
    "ax.scatter(YY['Prix m2'],\n",
    "           YY['Surface reelle bati'],\n",
    "           YY['Nombre pieces principales'],\n",
    "           c=YY['cluster7'],\n",
    "           s=15,  cmap=plt.cm.Set1)\n",
    "\n",
    "ax.w_xaxis.set_ticklabels([])\n",
    "ax.w_yaxis.set_ticklabels([])\n",
    "ax.w_zaxis.set_ticklabels([])\n",
    "ax.set_xlabel('Prix m²')\n",
    "ax.set_ylabel('Surface reelle bati')\n",
    "ax.set_zlabel('nb de piece')\n",
    "ax.set_title('3D view of K-Means 5 clusters')\n",
    "ax.dist = 12\n",
    "\n",
    "plt.show()"
   ]
  },
  {
   "cell_type": "markdown",
   "id": "e097eb0d",
   "metadata": {},
   "source": [
    "<div style=\"border: 1px solid RGB(51,165,182);\" >\n",
    "<h3 style=\"margin: auto; padding: 20px; color: RGB(51,165,182); \">2 - PCA </h3>\n",
    "</div>"
   ]
  },
  {
   "cell_type": "code",
   "execution_count": null,
   "id": "9a21ebfa",
   "metadata": {},
   "outputs": [],
   "source": [
    "PCA = PCA(n_components=3)\n",
    "PCA.fit(XX)\n",
    "ACP = PCA.transform(XX)"
   ]
  },
  {
   "cell_type": "markdown",
   "id": "dfc8ba69",
   "metadata": {},
   "source": [
    "<div style=\"border: 1px solid RGB(51,165,182);\" >\n",
    "<h3 style=\"margin: auto; padding: 20px; color: RGB(51,165,182); \">2 - DBSCAN </h3>\n",
    "</div>"
   ]
  },
  {
   "cell_type": "code",
   "execution_count": null,
   "id": "113811aa",
   "metadata": {},
   "outputs": [],
   "source": [
    "db = DBSCAN(eps=0.5, min_samples=10)"
   ]
  },
  {
   "cell_type": "code",
   "execution_count": null,
   "id": "5e8b6da2",
   "metadata": {},
   "outputs": [],
   "source": [
    "pred=db.fit_predict(YY)"
   ]
  },
  {
   "cell_type": "code",
   "execution_count": null,
   "id": "a57d481e",
   "metadata": {},
   "outputs": [],
   "source": [
    "YY['Labels_db'] = db.labels_\n",
    "plt.figure(figsize=(12, 8))\n",
    "sns.scatterplot(YY['Valeur fonciere'],YY['Surface reelle bati'], c=YY['Labels_db'], \n",
    "                cmap=plt.cm.Set1)\n",
    "plt.title('DBSCAN with epsilon 11, min samples 6')\n",
    "plt.show()"
   ]
  },
  {
   "cell_type": "code",
   "execution_count": null,
   "id": "9f02e1a9",
   "metadata": {},
   "outputs": [],
   "source": [
    "dbs = DBSCAN(eps=2.5, min_samples=16).fit(YY)"
   ]
  },
  {
   "cell_type": "code",
   "execution_count": null,
   "id": "84517988",
   "metadata": {},
   "outputs": [],
   "source": [
    "YY['Labels_db'] = dbs.labels_\n",
    "plt.figure(figsize=(12, 8))\n",
    "sns.scatterplot(YY['Valeur fonciere'],YY['Surface reelle bati'], c=YY['Labels_db'], cmap=plt.cm.Set1,s=5)\n",
    "plt.title('DBSCAN with epsilon 5, min samples 6')\n",
    "plt.show()"
   ]
  },
  {
   "cell_type": "code",
   "execution_count": null,
   "id": "d368df82",
   "metadata": {},
   "outputs": [],
   "source": [
    "dbss = DBSCAN(eps=0.5, min_samples=26).fit(YY)"
   ]
  },
  {
   "cell_type": "code",
   "execution_count": null,
   "id": "0e27c948",
   "metadata": {},
   "outputs": [],
   "source": [
    "YY['Labels_db'] = dbs.labels_\n",
    "plt.figure(figsize=(12, 8))\n",
    "sns.scatterplot(YY['Valeur fonciere'], YY['Surface reelle bati'], c=YY['Labels_db'], cmap=plt.cm.Set1, s=5)\n",
    "plt.title('DBSCAN with epsilon 5, min samples 6')\n",
    "plt.show()"
   ]
  },
  {
   "cell_type": "markdown",
   "id": "ef93dcd3",
   "metadata": {},
   "source": [
    "<div style=\"border: 1px solid RGB(51,165,182);\" >\n",
    "<h3 style=\"margin: auto; padding: 20px; color: RGB(51,165,182); \">3 - MeanShift </h3>\n",
    "</div>"
   ]
  },
  {
   "cell_type": "code",
   "execution_count": null,
   "id": "e46f7699",
   "metadata": {},
   "outputs": [],
   "source": [
    "bandwidth = estimate_bandwidth(YY, quantile=0.1)\n",
    "ms = MeanShift(bandwidth).fit(YY)"
   ]
  },
  {
   "cell_type": "code",
   "execution_count": null,
   "id": "c7cb9142",
   "metadata": {},
   "outputs": [],
   "source": [
    "YY['Labels_M'] = ms.labels_\n",
    "plt.figure(figsize=(12, 8))\n",
    "sns.scatterplot(YY['Valeur fonciere'],YY['Surface reelle bati'], hue=YY['Labels_M'], \n",
    "                c=YY['Labels_db'], cmap=plt.cm.Set1, s=5)\n",
    "plt.plot()\n",
    "plt.title('MeanShift')\n",
    "plt.show()"
   ]
  },
  {
   "cell_type": "markdown",
   "id": "6c9bfb3b",
   "metadata": {},
   "source": [
    "<div style=\"border: 1px solid RGB(51,165,182);\" >\n",
    "<h3 style=\"margin: auto; padding: 20px; color: RGB(51,165,182); \">4 - Hierarchical & AgglomerativeClustering </h3>\n",
    "</div>"
   ]
  },
  {
   "cell_type": "code",
   "execution_count": null,
   "id": "2320eb49",
   "metadata": {},
   "outputs": [],
   "source": [
    "agglom = AgglomerativeClustering(n_clusters=5, linkage='average').fit(YY)"
   ]
  },
  {
   "cell_type": "code",
   "execution_count": null,
   "id": "b8f1e842",
   "metadata": {},
   "outputs": [],
   "source": [
    "YY['Labels_Agg'] = agglom.labels_\n",
    "plt.figure(figsize=(12, 8))\n",
    "sns.scatterplot(YY['Valeur fonciere'],YY['Surface reelle bati'], hue=YY['Labels_Agg'], \n",
    "                palette=sns.color_palette('hls', 5))\n",
    "plt.title('Agglomerative with 5 Clusters')\n",
    "plt.show()"
   ]
  },
  {
   "cell_type": "code",
   "execution_count": null,
   "id": "4ca882fa",
   "metadata": {},
   "outputs": [],
   "source": []
  }
 ],
 "metadata": {
  "kernelspec": {
   "display_name": "Python 3 (ipykernel)",
   "language": "python",
   "name": "python3"
  },
  "language_info": {
   "codemirror_mode": {
    "name": "ipython",
    "version": 3
   },
   "file_extension": ".py",
   "mimetype": "text/x-python",
   "name": "python",
   "nbconvert_exporter": "python",
   "pygments_lexer": "ipython3",
   "version": "3.8.8"
  }
 },
 "nbformat": 4,
 "nbformat_minor": 5
}
