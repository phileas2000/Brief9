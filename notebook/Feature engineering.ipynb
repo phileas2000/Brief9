{
 "cells": [
  {
   "cell_type": "markdown",
   "id": "9df694d4",
   "metadata": {},
   "source": [
    "<div style=\"display: flex; background-color: RGB(255,114,0);\" >\n",
    "<h1 style=\"margin: auto; padding: 30px; \">Brief 9 -  </h1>\n",
    "</div>"
   ]
  },
  {
   "cell_type": "markdown",
   "id": "37dd18d0",
   "metadata": {},
   "source": [
    "<div style=\"background-color: RGB(51,165,182);\" >\n",
    "<h2 style=\"margin: auto; padding: 20px; color:#fff; \">Partie 3 - Feature engineering </h2>\n",
    "</div>"
   ]
  },
  {
   "cell_type": "markdown",
   "id": "6d1c8afe",
   "metadata": {},
   "source": [
    "<div style=\"border: 1px solid RGB(51,165,182);\" >\n",
    "<h3 style=\"margin: auto; padding: 20px; color: RGB(51,165,182); \">2.1 - Importation des librairies</h3>\n",
    "</div>"
   ]
  },
  {
   "cell_type": "code",
   "execution_count": 1,
   "id": "6e56ab00",
   "metadata": {},
   "outputs": [],
   "source": [
    "%load_ext autoreload\n",
    "%autoreload 2\n",
    "import pandas as pd\n",
    "import numpy as np\n",
    "from pathlib import Path\n",
    "from clean.Cleaning import data_check\n",
    "from clean.Cleaning import record\n",
    "from clean.Cleaning import missing_values\n",
    "import matplotlib.pyplot as plt\n",
    "import seaborn as sns\n",
    "from mpl_toolkits.mplot3d import Axes3D\n",
    "import pickle\n",
    "import warnings\n",
    "from datetime import datetime\n",
    "warnings.filterwarnings(\"ignore\")"
   ]
  },
  {
   "cell_type": "markdown",
   "id": "2a0c3dc1",
   "metadata": {},
   "source": [
    "<div style=\"background-color: RGB(51,165,182);\" >\n",
    "<h3 style=\"margin: auto; padding: 20px; color:#fff; \">2.2 - Importation et préparation des fichiers</h3>\n",
    "</div>"
   ]
  },
  {
   "cell_type": "code",
   "execution_count": 2,
   "id": "616d468f",
   "metadata": {},
   "outputs": [],
   "source": [
    "data = pd.read_csv(r'../data/CURATED/df_clean.csv', encoding=\"UTF8\", sep=',')\n",
    "df = data.copy()"
   ]
  },
  {
   "cell_type": "code",
   "execution_count": 3,
   "id": "8dc5acfb",
   "metadata": {},
   "outputs": [],
   "source": [
    "a=df[['Id','Type local']].pivot_table(index='Id', columns='Type local', aggfunc=len, fill_value=0).reset_index()"
   ]
  },
  {
   "cell_type": "code",
   "execution_count": 4,
   "id": "d059e464",
   "metadata": {},
   "outputs": [],
   "source": [
    "b=df.groupby(\"Id\").agg(\n",
    "    Valeur_fonciere = pd.NamedAgg(column=\"Valeur fonciere\", aggfunc=\"max\"),\n",
    "    Nombre_pieces_principales = pd.NamedAgg(column=\"Nombre pieces principales\", aggfunc=\"sum\"),\n",
    "    tot_lot = pd.NamedAgg(column=\"Type local\", aggfunc=\"count\"),\n",
    "    typ_lot = pd.NamedAgg(column=\"Type local\", aggfunc=\"nunique\"),\n",
    "    Surface_reelle_bati = pd.NamedAgg(column=\"Surface reelle bati\", aggfunc=\"sum\")\n",
    "    ).reset_index(level=0)"
   ]
  },
  {
   "cell_type": "code",
   "execution_count": 36,
   "id": "3e604fc1",
   "metadata": {},
   "outputs": [],
   "source": [
    "c=a.merge(b, how='left', left_on = 'Id', right_on='Id' )"
   ]
  },
  {
   "cell_type": "code",
   "execution_count": 6,
   "id": "1c9a06af",
   "metadata": {},
   "outputs": [],
   "source": [
    "local=pd.DataFrame(df.groupby(['Id'])['Type local'].agg(lambda x: x.value_counts().index[0])).reset_index()"
   ]
  },
  {
   "cell_type": "code",
   "execution_count": 7,
   "id": "ea37a892",
   "metadata": {},
   "outputs": [],
   "source": [
    "surf = pd.DataFrame(df.groupby(['Id'])['Surface terrain'].agg(lambda x: x.max() if x.nunique()==1 else x.unique().sum())).reset_index()"
   ]
  },
  {
   "cell_type": "code",
   "execution_count": 37,
   "id": "a88472a9",
   "metadata": {},
   "outputs": [],
   "source": [
    "c['Surface_terrain']=local['Surface terrain']\n",
    "c['local']=good['Type local']"
   ]
  },
  {
   "cell_type": "code",
   "execution_count": 38,
   "id": "592687c8",
   "metadata": {},
   "outputs": [],
   "source": [
    "# plusieurs terrain\n",
    "c.loc[(c[(c['typ_lot']>1) & (c['Terrain']>1) & (c['Local industriel. commercial ou assimilé']>c['Appartement'])& (c['Local industriel. commercial ou assimilé'] > c['Maison']) & (c['local']=='Terrain')]).index, 'local'] = 'Local industriel. commercial ou assimilé'\n",
    "c.loc[(c[(c['typ_lot']>1) & (c['Terrain']>1) & (c['Maison']>c['Appartement']) & (c['Maison']>c['Local industriel. commercial ou assimilé']) & (c['local']=='Terrain')]).index, 'local'] = 'Maison'\n",
    "c.loc[(c[(c['typ_lot']>1) & (c['Terrain']>1) & (c['Appartement']> c['Maison']) & (c['Appartement']>c['Local industriel. commercial ou assimilé']) & (c['local']=='Terrain')]).index, 'local'] = 'Appartement'"
   ]
  },
  {
   "cell_type": "code",
   "execution_count": 39,
   "id": "ec7fafc7",
   "metadata": {},
   "outputs": [],
   "source": [
    "# dependance + appartement = appartement\n",
    "c.loc[(c[(c['typ_lot']>1) & (c['Appartement']!=0) & (c['Local industriel. commercial ou assimilé']==0) \n",
    "  & (c['Maison']==0) & (c['Terrain']==0) & (c['local']=='Dépendance')]).index, 'local'] = 'Appartement'"
   ]
  },
  {
   "cell_type": "code",
   "execution_count": 40,
   "id": "3eedcdaa",
   "metadata": {},
   "outputs": [],
   "source": [
    "# dependance + Maison = Maison\n",
    "c.loc[(c[(c['typ_lot']>1) & (c['Appartement']==0) & (c['Local industriel. commercial ou assimilé']==0) \n",
    "  & (c['Maison']!=0) & (c['Terrain']==0) & (c['local']=='Dépendance')]).index, 'local'] = 'Maison'"
   ]
  },
  {
   "cell_type": "code",
   "execution_count": 41,
   "id": "48d19393",
   "metadata": {},
   "outputs": [],
   "source": [
    "# dependance + Local industriel = Local industriel\n",
    "c.loc[(c[(c['typ_lot']>1) & (c['Appartement']==0) & (c['Local industriel. commercial ou assimilé']!=0) \n",
    "  & (c['Maison']==0) & (c['Terrain']==0) & (c['local']=='Dépendance')]).index, 'local'] = 'Local industriel. commercial ou assimilé'"
   ]
  },
  {
   "cell_type": "code",
   "execution_count": 42,
   "id": "92e2cb65",
   "metadata": {},
   "outputs": [],
   "source": [
    "# dependance + Terrain = Terrain\n",
    "c.loc[(c[(c['typ_lot']>1) & (c['Appartement']==0) & (c['Local industriel. commercial ou assimilé']==0) \n",
    "  & (c['Maison']==0) & (c['Terrain']!=0) & (c['local']=='Dépendance')]).index, 'local'] = 'Terrain'"
   ]
  },
  {
   "cell_type": "code",
   "execution_count": 43,
   "id": "25ed17ed",
   "metadata": {},
   "outputs": [],
   "source": [
    "# dependance + Maison + appartement = Maison\n",
    "c.loc[(c[(c['typ_lot']>1) & (c['Appartement']!=0) & (c['Local industriel. commercial ou assimilé']==0) \n",
    "  & (c['Maison']!=0) & (c['Terrain']==0) & (c['local']=='Dépendance')]).index, 'local'] = 'Maison'"
   ]
  },
  {
   "cell_type": "code",
   "execution_count": 44,
   "id": "cae993bc",
   "metadata": {},
   "outputs": [],
   "source": [
    "# dependance + Maison + local = Maison\n",
    "c.loc[(c[(c['typ_lot']>1) & (c['Appartement']==0) & (c['Local industriel. commercial ou assimilé']!=0) \n",
    "  & (c['Maison']!=0) & (c['Terrain']==0) & (c['local']=='Dépendance')]).index, 'local'] = 'Maison'"
   ]
  },
  {
   "cell_type": "code",
   "execution_count": 45,
   "id": "08e4f86f",
   "metadata": {},
   "outputs": [],
   "source": [
    "# dependance + local + appartement = appartement\n",
    "c.loc[(c[(c['typ_lot']>1) & (c['Appartement']!=0) & (c['Local industriel. commercial ou assimilé']!=0) \n",
    "  & (c['Maison']==0) & (c['Terrain']==0) & (c['local']=='Dépendance') & (c['Appartement']>=c['Local industriel. commercial ou assimilé'])]).index, 'local'] = 'Appartement'"
   ]
  },
  {
   "cell_type": "code",
   "execution_count": 46,
   "id": "e9f4ec22",
   "metadata": {},
   "outputs": [],
   "source": [
    "# dependance + local + appartement = local\n",
    "c.loc[(c[(c['typ_lot']>1) & (c['Appartement']!=0) & (c['Local industriel. commercial ou assimilé']!=0) \n",
    "  & (c['Maison']==0) & (c['Terrain']==0) & (c['local']=='Dépendance') & (c['Appartement']<c['Local industriel. commercial ou assimilé'])]).index, 'local'] = 'Local industriel. commercial ou assimilé'"
   ]
  },
  {
   "cell_type": "code",
   "execution_count": 47,
   "id": "f52d2c6f",
   "metadata": {},
   "outputs": [],
   "source": [
    "#  Maison + local = Maison\n",
    "c.loc[(c[(c['typ_lot']>1) & (c['Maison']==c['Local industriel. commercial ou assimilé']) & (c['local']=='Local industriel. commercial ou assimilé')]).index, 'local'] = 'Maison'"
   ]
  },
  {
   "cell_type": "code",
   "execution_count": 48,
   "id": "fa7445ef",
   "metadata": {},
   "outputs": [],
   "source": [
    "# plusieurs appartements \n",
    "c.loc[(c[(c['typ_lot']==1) & (c['Appartement']>1)]).index, 'local'] = 'Batiment'\n",
    "c.loc[(c[(c['typ_lot']>1) & (c['Appartement']>1) & (c['Maison']==0) & (c['local']=='Appartement')]).index, 'local'] = 'Batiment'\n",
    "c.loc[(c[(c['typ_lot']>1) & (c['Appartement']>1) & (c['Maison']!=0) & (c['local']=='Appartement')]).index, 'local'] = 'mix'"
   ]
  },
  {
   "cell_type": "code",
   "execution_count": 49,
   "id": "bacd8680",
   "metadata": {},
   "outputs": [],
   "source": [
    "# plusieurs maison \n",
    "c.loc[(c[(c['typ_lot']==1) & (c['Maison']>1)]).index, 'local'] = 'Lotissement'\n",
    "c.loc[(c[(c['typ_lot']>1) & (c['Maison']>1) & (c['Appartement']==0) & (c['local']=='Maison')]).index, 'local'] = 'Lotissement'\n",
    "c.loc[(c[(c['typ_lot']>1) & (c['Maison']>1) & (c['Appartement']!=0) & (c['local']=='Maison')]).index, 'local'] = 'mix'"
   ]
  },
  {
   "cell_type": "code",
   "execution_count": 50,
   "id": "2e289495",
   "metadata": {},
   "outputs": [],
   "source": [
    "# plusieurs local\n",
    "c.loc[(c[(c['typ_lot']==1) & (c['Local industriel. commercial ou assimilé']>1)]).index, 'local'] = 'Centre commercial'\n",
    "c.loc[(c[(c['typ_lot']>1) & (c['Local industriel. commercial ou assimilé']>1) & (c['Appartement']!=0) & (c['local']=='Local industriel. commercial ou assimilé')]).index, 'local'] = 'mix'\n",
    "c.loc[(c[(c['typ_lot']>1) & (c['Local industriel. commercial ou assimilé']>1) & (c['Maison']!=0) & (c['local']=='Local industriel. commercial ou assimilé')]).index, 'local'] = 'mix'"
   ]
  },
  {
   "cell_type": "code",
   "execution_count": 51,
   "id": "b6cf5587",
   "metadata": {},
   "outputs": [],
   "source": [
    "# bien vendu seul \n",
    "c.loc[(c[c['local']=='Appartement']).index, 'local'] = 'Seul'\n",
    "c.loc[(c[c['local']=='Maison']).index, 'local'] = 'Seul'\n",
    "c.loc[(c[c['local']=='Local industriel. commercial ou assimilé']).index, 'local'] = 'Seul'"
   ]
  },
  {
   "cell_type": "code",
   "execution_count": 52,
   "id": "597200e7",
   "metadata": {
    "scrolled": false
   },
   "outputs": [],
   "source": [
    "# drop les dépandance seul\n",
    "c.drop(c[c['local']=='Dépendance'].index, inplace=True)"
   ]
  },
  {
   "cell_type": "code",
   "execution_count": 53,
   "id": "46820b1b",
   "metadata": {},
   "outputs": [],
   "source": [
    "# prix m²\n",
    "c.loc[(c[c['Surface_reelle_bati']!=0]).index, 'prix_m2'] = c['Valeur_fonciere']/c['Surface_reelle_bati']\n",
    "c.loc[(c[c['Surface_reelle_bati']==0]).index, 'prix_m2'] = c['Valeur_fonciere']/c['Surface_terrain']"
   ]
  },
  {
   "cell_type": "code",
   "execution_count": 54,
   "id": "fcbfacba",
   "metadata": {},
   "outputs": [],
   "source": [
    "# drop bien avec des piece -9 m²\n",
    "c.drop(c[(c['Nombre_pieces_principales']!=0) & ((c['Surface_reelle_bati']/c['Nombre_pieces_principales'])<9)  ].index, inplace=True)\n",
    "# drop bien avec valeur nulle\n",
    "c.drop(c[c['Valeur_fonciere']==0].index, inplace=True)\n",
    "# drop bien avec prix m² moins que 400 e\n",
    "c.drop(c[c['prix_m2'] < 400 ].index, inplace=True)\n",
    "# drop bien avec prix m² superieur à 25000 e \n",
    "c.drop(c[c['prix_m2']>25000].index, inplace=True)"
   ]
  },
  {
   "cell_type": "code",
   "execution_count": 55,
   "id": "0e4ad855",
   "metadata": {},
   "outputs": [
    {
     "data": {
      "text/html": [
       "<div>\n",
       "<style scoped>\n",
       "    .dataframe tbody tr th:only-of-type {\n",
       "        vertical-align: middle;\n",
       "    }\n",
       "\n",
       "    .dataframe tbody tr th {\n",
       "        vertical-align: top;\n",
       "    }\n",
       "\n",
       "    .dataframe thead th {\n",
       "        text-align: right;\n",
       "    }\n",
       "</style>\n",
       "<table border=\"1\" class=\"dataframe\">\n",
       "  <thead>\n",
       "    <tr style=\"text-align: right;\">\n",
       "      <th></th>\n",
       "      <th>Id</th>\n",
       "      <th>Appartement</th>\n",
       "      <th>Dépendance</th>\n",
       "      <th>Local industriel. commercial ou assimilé</th>\n",
       "      <th>Maison</th>\n",
       "      <th>Terrain</th>\n",
       "      <th>valeur</th>\n",
       "      <th>nbr_piece</th>\n",
       "      <th>tot_lot</th>\n",
       "      <th>typ_lot</th>\n",
       "      <th>surf_bati</th>\n",
       "      <th>surf terr</th>\n",
       "      <th>local</th>\n",
       "      <th>prix_m2</th>\n",
       "    </tr>\n",
       "  </thead>\n",
       "  <tbody>\n",
       "    <tr>\n",
       "      <th>0</th>\n",
       "      <td>Vente 01/01/2020 13 207 E 195000.0</td>\n",
       "      <td>1</td>\n",
       "      <td>1</td>\n",
       "      <td>0</td>\n",
       "      <td>0</td>\n",
       "      <td>0</td>\n",
       "      <td>195000.0</td>\n",
       "      <td>2</td>\n",
       "      <td>2</td>\n",
       "      <td>2</td>\n",
       "      <td>53.0</td>\n",
       "      <td>0.0</td>\n",
       "      <td>Seul</td>\n",
       "      <td>3679.245283</td>\n",
       "    </tr>\n",
       "    <tr>\n",
       "      <th>1</th>\n",
       "      <td>Vente 01/01/2020 29 259 AM 87500.0</td>\n",
       "      <td>1</td>\n",
       "      <td>1</td>\n",
       "      <td>0</td>\n",
       "      <td>0</td>\n",
       "      <td>0</td>\n",
       "      <td>87500.0</td>\n",
       "      <td>3</td>\n",
       "      <td>2</td>\n",
       "      <td>2</td>\n",
       "      <td>62.0</td>\n",
       "      <td>0.0</td>\n",
       "      <td>Seul</td>\n",
       "      <td>1411.290323</td>\n",
       "    </tr>\n",
       "    <tr>\n",
       "      <th>3</th>\n",
       "      <td>Vente 01/01/2020 49 278 AM 100000.0</td>\n",
       "      <td>0</td>\n",
       "      <td>0</td>\n",
       "      <td>0</td>\n",
       "      <td>1</td>\n",
       "      <td>0</td>\n",
       "      <td>100000.0</td>\n",
       "      <td>3</td>\n",
       "      <td>1</td>\n",
       "      <td>1</td>\n",
       "      <td>75.0</td>\n",
       "      <td>122.0</td>\n",
       "      <td>Seul</td>\n",
       "      <td>1333.333333</td>\n",
       "    </tr>\n",
       "    <tr>\n",
       "      <th>7</th>\n",
       "      <td>Vente 01/02/2020 1 29 ZS 164000.0</td>\n",
       "      <td>0</td>\n",
       "      <td>0</td>\n",
       "      <td>0</td>\n",
       "      <td>1</td>\n",
       "      <td>2</td>\n",
       "      <td>164000.0</td>\n",
       "      <td>7</td>\n",
       "      <td>3</td>\n",
       "      <td>2</td>\n",
       "      <td>181.0</td>\n",
       "      <td>1771.0</td>\n",
       "      <td>Seul</td>\n",
       "      <td>906.077348</td>\n",
       "    </tr>\n",
       "    <tr>\n",
       "      <th>9</th>\n",
       "      <td>Vente 01/02/2020 1 53 AI 75000.0</td>\n",
       "      <td>1</td>\n",
       "      <td>0</td>\n",
       "      <td>0</td>\n",
       "      <td>0</td>\n",
       "      <td>0</td>\n",
       "      <td>75000.0</td>\n",
       "      <td>2</td>\n",
       "      <td>1</td>\n",
       "      <td>1</td>\n",
       "      <td>50.0</td>\n",
       "      <td>0.0</td>\n",
       "      <td>Seul</td>\n",
       "      <td>1500.000000</td>\n",
       "    </tr>\n",
       "    <tr>\n",
       "      <th>...</th>\n",
       "      <td>...</td>\n",
       "      <td>...</td>\n",
       "      <td>...</td>\n",
       "      <td>...</td>\n",
       "      <td>...</td>\n",
       "      <td>...</td>\n",
       "      <td>...</td>\n",
       "      <td>...</td>\n",
       "      <td>...</td>\n",
       "      <td>...</td>\n",
       "      <td>...</td>\n",
       "      <td>...</td>\n",
       "      <td>...</td>\n",
       "      <td>...</td>\n",
       "    </tr>\n",
       "    <tr>\n",
       "      <th>1028724</th>\n",
       "      <td>Vente 31/12/2020 974 18 AT 153450.0</td>\n",
       "      <td>0</td>\n",
       "      <td>0</td>\n",
       "      <td>0</td>\n",
       "      <td>0</td>\n",
       "      <td>1</td>\n",
       "      <td>153450.0</td>\n",
       "      <td>0</td>\n",
       "      <td>1</td>\n",
       "      <td>1</td>\n",
       "      <td>0.0</td>\n",
       "      <td>279.0</td>\n",
       "      <td>Terrain</td>\n",
       "      <td>550.000000</td>\n",
       "    </tr>\n",
       "    <tr>\n",
       "      <th>1028726</th>\n",
       "      <td>Vente 31/12/2020 974 7 AE 55500.0</td>\n",
       "      <td>1</td>\n",
       "      <td>1</td>\n",
       "      <td>0</td>\n",
       "      <td>0</td>\n",
       "      <td>0</td>\n",
       "      <td>55500.0</td>\n",
       "      <td>1</td>\n",
       "      <td>2</td>\n",
       "      <td>2</td>\n",
       "      <td>28.0</td>\n",
       "      <td>0.0</td>\n",
       "      <td>Seul</td>\n",
       "      <td>1982.142857</td>\n",
       "    </tr>\n",
       "    <tr>\n",
       "      <th>1028727</th>\n",
       "      <td>Vente 31/12/2020 974 8 AC 52650.0</td>\n",
       "      <td>0</td>\n",
       "      <td>0</td>\n",
       "      <td>1</td>\n",
       "      <td>0</td>\n",
       "      <td>1</td>\n",
       "      <td>52650.0</td>\n",
       "      <td>0</td>\n",
       "      <td>2</td>\n",
       "      <td>2</td>\n",
       "      <td>20.0</td>\n",
       "      <td>390.0</td>\n",
       "      <td>Seul</td>\n",
       "      <td>2632.500000</td>\n",
       "    </tr>\n",
       "    <tr>\n",
       "      <th>1028728</th>\n",
       "      <td>Vente 31/12/2020 974 8 AR 368000.0</td>\n",
       "      <td>0</td>\n",
       "      <td>0</td>\n",
       "      <td>0</td>\n",
       "      <td>1</td>\n",
       "      <td>0</td>\n",
       "      <td>368000.0</td>\n",
       "      <td>5</td>\n",
       "      <td>1</td>\n",
       "      <td>1</td>\n",
       "      <td>95.0</td>\n",
       "      <td>486.0</td>\n",
       "      <td>Seul</td>\n",
       "      <td>3873.684211</td>\n",
       "    </tr>\n",
       "    <tr>\n",
       "      <th>1028729</th>\n",
       "      <td>Vente 31/12/2020 974 9 AB 290000.0</td>\n",
       "      <td>0</td>\n",
       "      <td>0</td>\n",
       "      <td>0</td>\n",
       "      <td>1</td>\n",
       "      <td>0</td>\n",
       "      <td>290000.0</td>\n",
       "      <td>5</td>\n",
       "      <td>1</td>\n",
       "      <td>1</td>\n",
       "      <td>164.0</td>\n",
       "      <td>700.0</td>\n",
       "      <td>Seul</td>\n",
       "      <td>1768.292683</td>\n",
       "    </tr>\n",
       "  </tbody>\n",
       "</table>\n",
       "<p>733394 rows × 14 columns</p>\n",
       "</div>"
      ],
      "text/plain": [
       "                                          Id  Appartement  Dépendance  \\\n",
       "0         Vente 01/01/2020 13 207 E 195000.0            1           1   \n",
       "1         Vente 01/01/2020 29 259 AM 87500.0            1           1   \n",
       "3        Vente 01/01/2020 49 278 AM 100000.0            0           0   \n",
       "7          Vente 01/02/2020 1 29 ZS 164000.0            0           0   \n",
       "9           Vente 01/02/2020 1 53 AI 75000.0            1           0   \n",
       "...                                      ...          ...         ...   \n",
       "1028724  Vente 31/12/2020 974 18 AT 153450.0            0           0   \n",
       "1028726    Vente 31/12/2020 974 7 AE 55500.0            1           1   \n",
       "1028727    Vente 31/12/2020 974 8 AC 52650.0            0           0   \n",
       "1028728   Vente 31/12/2020 974 8 AR 368000.0            0           0   \n",
       "1028729   Vente 31/12/2020 974 9 AB 290000.0            0           0   \n",
       "\n",
       "         Local industriel. commercial ou assimilé  Maison  Terrain    valeur  \\\n",
       "0                                               0       0        0  195000.0   \n",
       "1                                               0       0        0   87500.0   \n",
       "3                                               0       1        0  100000.0   \n",
       "7                                               0       1        2  164000.0   \n",
       "9                                               0       0        0   75000.0   \n",
       "...                                           ...     ...      ...       ...   \n",
       "1028724                                         0       0        1  153450.0   \n",
       "1028726                                         0       0        0   55500.0   \n",
       "1028727                                         1       0        1   52650.0   \n",
       "1028728                                         0       1        0  368000.0   \n",
       "1028729                                         0       1        0  290000.0   \n",
       "\n",
       "         nbr_piece  tot_lot  typ_lot  surf_bati  surf terr    local  \\\n",
       "0                2        2        2       53.0        0.0     Seul   \n",
       "1                3        2        2       62.0        0.0     Seul   \n",
       "3                3        1        1       75.0      122.0     Seul   \n",
       "7                7        3        2      181.0     1771.0     Seul   \n",
       "9                2        1        1       50.0        0.0     Seul   \n",
       "...            ...      ...      ...        ...        ...      ...   \n",
       "1028724          0        1        1        0.0      279.0  Terrain   \n",
       "1028726          1        2        2       28.0        0.0     Seul   \n",
       "1028727          0        2        2       20.0      390.0     Seul   \n",
       "1028728          5        1        1       95.0      486.0     Seul   \n",
       "1028729          5        1        1      164.0      700.0     Seul   \n",
       "\n",
       "             prix_m2  \n",
       "0        3679.245283  \n",
       "1        1411.290323  \n",
       "3        1333.333333  \n",
       "7         906.077348  \n",
       "9        1500.000000  \n",
       "...              ...  \n",
       "1028724   550.000000  \n",
       "1028726  1982.142857  \n",
       "1028727  2632.500000  \n",
       "1028728  3873.684211  \n",
       "1028729  1768.292683  \n",
       "\n",
       "[733394 rows x 14 columns]"
      ]
     },
     "execution_count": 55,
     "metadata": {},
     "output_type": "execute_result"
    }
   ],
   "source": [
    "df.drop(columns=['tot_lot','typ_lot','Id'], inplace=True)"
   ]
  },
  {
   "cell_type": "code",
   "execution_count": 70,
   "id": "8c03a53d",
   "metadata": {},
   "outputs": [
    {
     "data": {
      "text/html": [
       "<div>\n",
       "<style scoped>\n",
       "    .dataframe tbody tr th:only-of-type {\n",
       "        vertical-align: middle;\n",
       "    }\n",
       "\n",
       "    .dataframe tbody tr th {\n",
       "        vertical-align: top;\n",
       "    }\n",
       "\n",
       "    .dataframe thead th {\n",
       "        text-align: right;\n",
       "    }\n",
       "</style>\n",
       "<table border=\"1\" class=\"dataframe\">\n",
       "  <thead>\n",
       "    <tr style=\"text-align: right;\">\n",
       "      <th></th>\n",
       "      <th>Id</th>\n",
       "      <th>Appartement</th>\n",
       "      <th>Dépendance</th>\n",
       "      <th>Local industriel. commercial ou assimilé</th>\n",
       "      <th>Maison</th>\n",
       "      <th>Terrain</th>\n",
       "      <th>valeur</th>\n",
       "      <th>nbr_piece</th>\n",
       "      <th>tot_lot</th>\n",
       "      <th>typ_lot</th>\n",
       "      <th>surf_bati</th>\n",
       "      <th>surf terr</th>\n",
       "      <th>local</th>\n",
       "      <th>prix_m2</th>\n",
       "    </tr>\n",
       "  </thead>\n",
       "  <tbody>\n",
       "  </tbody>\n",
       "</table>\n",
       "</div>"
      ],
      "text/plain": [
       "Empty DataFrame\n",
       "Columns: [Id, Appartement, Dépendance, Local industriel. commercial ou assimilé, Maison, Terrain, valeur, nbr_piece, tot_lot, typ_lot, surf_bati, surf terr, local, prix_m2]\n",
       "Index: []"
      ]
     },
     "execution_count": 70,
     "metadata": {},
     "output_type": "execute_result"
    }
   ],
   "source": [
    "c[(c['local']=='Batiment')&c['Maison']!=0]"
   ]
  },
  {
   "cell_type": "code",
   "execution_count": 60,
   "id": "59f583ae",
   "metadata": {},
   "outputs": [],
   "source": [
    "record(c,'df_final','CURATED')"
   ]
  },
  {
   "cell_type": "raw",
   "id": "5803e761",
   "metadata": {},
   "source": [
    "clean.groupby(\"Id\").agg(\n",
    "    nbr_piece = pd.NamedAgg(column=\"Nombre pieces principales\", aggfunc=\"sum\"),\n",
    "    tot_lot = pd.NamedAgg(column=\"Type local\", aggfunc=\"count\"),\n",
    "    valeur = pd.NamedAgg(column=\"Valeur fonciere\", aggfunc=\"nunique\"),\n",
    "    typ_lot = pd.NamedAgg(column=\"Type local\", aggfunc=\"nunique\"),\n",
    "    max_terrain = pd.NamedAgg(column=\"Surface terrain\", aggfunc=\"max\"),\n",
    "    nb_surf = pd.NamedAgg(column=\"Surface reelle bati\", aggfunc=\"sum\")).reset_index(level=0)\n",
    "\n",
    "clean['Amount'] = clean.groupby('Id')['Id'].transform('count')\n",
    "\n",
    "clean['Id_commune'] = clean['Code departement'].astype(str)+'-'+clean['Code commune'].astype('str')\n",
    "clean['Adresse'] = clean['Type de voie']+' '+clean['Voie']\n",
    "clean['Parcelle'] = clean['Prefixe de section'].astype(str)+' '+clean['Section'].astype(str)\n",
    "clean = clean.drop(columns=['No voie', 'B/T/Q', 'Type de voie', 'Voie', 'Prefixe de section', \n",
    "                            'Section', 'Code postal', 'Code commune'], axis=1)\n",
    "\n",
    "clean['Id'] = (clean['No disposition'].astype(str) + '-' + clean['Date mutation'].astype(str) \n",
    "               + '-' + clean['Nature mutation'].astype(str) + '-' + clean['Valeur fonciere'].astype(str)\n",
    "              + '-' + clean['Id_commune'].astype(str))\n",
    "\n"
   ]
  },
  {
   "cell_type": "raw",
   "id": "dd52d47a",
   "metadata": {},
   "source": [
    "# vérif uniquement local\n",
    "c[(c['typ_lot']==1) & (c['Appartement']==0) & (c['Dépendance']==0) & (c['Maison']==0) & (c['Terrain']==0)].shape\n",
    "\n",
    "# vérif uniquement dépendance\n",
    "c[(c['typ_lot']==1) & (c['Appartement']==0) & (c['Local industriel. commercial ou assimilé']==0) \n",
    "  & (c['Maison']==0) & (c['Terrain']==0)].shape\n",
    "\n",
    "# vérif uniquement terrain\n",
    "c[(c['typ_lot']==1) & (c['Appartement']==0) & (c['Local industriel. commercial ou assimilé']==0) \n",
    "  & (c['Maison']==0) & (c['Dépendance']==0)].shape\n",
    "\n",
    "# vérif uniquement maison\n",
    "c[(c['typ_lot']==1) & (c['Appartement']==0) & (c['Local industriel. commercial ou assimilé']==0) \n",
    "  & (c['Terrain']==0) & (c['Dépendance']==0)].shape\n",
    "\n",
    "# vérif uniquement appartemnt\n",
    "c[(c['typ_lot']==1) & (c['Maison']==0) & (c['Local industriel. commercial ou assimilé']==0) \n",
    "  & (c['Terrain']==0) & (c['Dépendance']==0)].shape"
   ]
  }
 ],
 "metadata": {
  "kernelspec": {
   "display_name": "Python 3 (ipykernel)",
   "language": "python",
   "name": "python3"
  },
  "language_info": {
   "codemirror_mode": {
    "name": "ipython",
    "version": 3
   },
   "file_extension": ".py",
   "mimetype": "text/x-python",
   "name": "python",
   "nbconvert_exporter": "python",
   "pygments_lexer": "ipython3",
   "version": "3.8.8"
  }
 },
 "nbformat": 4,
 "nbformat_minor": 5
}
