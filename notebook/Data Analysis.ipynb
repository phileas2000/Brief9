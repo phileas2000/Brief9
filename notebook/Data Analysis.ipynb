{
 "cells": [
  {
   "cell_type": "markdown",
   "id": "1ea7bc28",
   "metadata": {},
   "source": [
    "<div style=\"display: flex; background-color: RGB(255,114,0);\" >\n",
    "<h1 style=\"margin: auto; padding: 30px; \">Brief 9 -  </h1>\n",
    "</div>"
   ]
  },
  {
   "cell_type": "markdown",
   "id": "4edbcc82",
   "metadata": {},
   "source": [
    "<div style=\"background-color: RGB(51,165,182);\" >\n",
    "<h2 style=\"margin: auto; padding: 20px; color:#fff; \">Partie 2 - Data Analysis </h2>\n",
    "</div>"
   ]
  },
  {
   "cell_type": "code",
   "execution_count": null,
   "id": "f110969b",
   "metadata": {},
   "outputs": [],
   "source": [
    "%load_ext autoreload\n",
    "%autoreload 2\n",
    "import pandas as pd\n",
    "import numpy as np\n",
    "from pathlib import Path\n",
    "from clean.Cleaning import data_check\n",
    "from clean.Cleaning import record\n",
    "from clean.Cleaning import missing_values\n",
    "import matplotlib.pyplot as plt\n",
    "import seaborn as sns\n",
    "from mpl_toolkits.mplot3d import Axes3D\n",
    "import pickle\n",
    "import warnings\n",
    "from datetime import datetime\n",
    "warnings.filterwarnings(\"ignore\")"
   ]
  },
  {
   "cell_type": "markdown",
   "id": "11359471",
   "metadata": {},
   "source": [
    "<div style=\"background-color: RGB(51,165,182);\" >\n",
    "<h2 style=\"margin: auto; padding: 20px; color:#fff; \"> Analyse </h2>\n",
    "</div>"
   ]
  },
  {
   "cell_type": "code",
   "execution_count": null,
   "id": "97eb6a03",
   "metadata": {},
   "outputs": [],
   "source": [
    "df['Type local'].value_counts(dropna = False, normalize = True)"
   ]
  },
  {
   "cell_type": "code",
   "execution_count": null,
   "id": "d863e931",
   "metadata": {},
   "outputs": [],
   "source": [
    "plt.figure(figsize=(7,7))\n",
    "labels = ['Terrain', 'Maison', 'Appartement', 'Dépendance', 'Local industriel. commercial ou assimilé']\n",
    "colors = ['#ff9999','#66b3ff','#99ff99','#ffcc99','#fffc52']\n",
    "area = [42.5, 23.1, 17.5, 13.1, 3.8]\n",
    "explode = (0.05,0.05,0.1,0.1,0.1)\n",
    "plt.pie(area, labels=labels, explode=explode, colors= colors, startangle=65, autopct='%1.1f%%',shadow='True')\n",
    "plt.title(label= 'Répartition de la variable type_local')\n",
    "plt.legend()\n",
    "plt.show()"
   ]
  },
  {
   "cell_type": "code",
   "execution_count": null,
   "id": "fb95c348",
   "metadata": {},
   "outputs": [],
   "source": [
    "df['Nature mutation'].value_counts(dropna = False, normalize = True)"
   ]
  },
  {
   "cell_type": "code",
   "execution_count": null,
   "id": "21c2592b",
   "metadata": {},
   "outputs": [],
   "source": [
    "plt.figure(figsize=(7,7))\n",
    "labels = ['Vente ', 'Echange', \"Vente en l'état futur d'achèvement\", 'Vente terrain à bâtir', 'Adjudication', 'Expropriation']\n",
    "colors = ['#ff9999','#66b3ff','#99ff99','#ffcc99','#fffc52','#fffc52']\n",
    "area = [97.8, 1, 0.5, 0.2, 0.28, 0.02]\n",
    "explode = (0.05,0.05,0.1,0.1,0.1,0.1)\n",
    "plt.pie(area, labels=labels, explode=explode, colors= colors, startangle=65, autopct='%1.1f%%',shadow='True')\n",
    "plt.title(label= 'Répartition de la variable Nature mutation')\n",
    "plt.legend()\n",
    "plt.show()"
   ]
  },
  {
   "cell_type": "code",
   "execution_count": null,
   "id": "ca6c5944",
   "metadata": {},
   "outputs": [],
   "source": [
    "g = sns.catplot(y=\"Type local\", x=\"Valeur fonciere\", kind=\"box\", data=df, height=4.5, aspect=2)\n",
    "g.set_axis_labels(\"Prix \", \"local\")\n",
    "print('Distribution Valeur Foncière  par type local')"
   ]
  },
  {
   "cell_type": "code",
   "execution_count": null,
   "id": "7512e88b",
   "metadata": {},
   "outputs": [],
   "source": [
    "g = sns.catplot(y=\"Type local\", x=\"Surface reelle bati\", kind=\"box\", data=df, height=4.5, aspect=2)\n",
    "g.set_axis_labels(\"surface m² \", \"local\")\n",
    "print('Distribution Valeur Foncière  par type local')"
   ]
  },
  {
   "cell_type": "code",
   "execution_count": null,
   "id": "46d83722",
   "metadata": {},
   "outputs": [],
   "source": [
    "g = sns.catplot(y=\"Type local\", x=\"Nombre pieces principales\", kind=\"box\", data=df, height=4.5, aspect=2)\n",
    "g.set_axis_labels(\"nbs de piece \", \"local\")\n",
    "print('Distribution Valeur Foncière  par type local')"
   ]
  },
  {
   "cell_type": "code",
   "execution_count": null,
   "id": "73b7da0e",
   "metadata": {},
   "outputs": [],
   "source": [
    "plt.figure(1 , figsize = (25 , 6))\n",
    "n = 0 \n",
    "for x in ['Valeur fonciere', 'Surface reelle bati', 'Nombre pieces principales', 'Surface terrain']:\n",
    "    n += 1\n",
    "    plt.subplot(2 , 3 , n)\n",
    "    plt.subplots_adjust(hspace =0.5 , wspace = 0.5)\n",
    "    sns.distplot(df[x] , bins = 20)\n",
    "    plt.title('Distplot of {}'.format(x))\n",
    "plt.show()"
   ]
  },
  {
   "cell_type": "code",
   "execution_count": null,
   "id": "a69fc482",
   "metadata": {},
   "outputs": [],
   "source": [
    "typ=df['Type local'].unique()\n",
    "for i in typ :\n",
    "    sns.distplot(df[df['Type local']==i]['Valeur fonciere'], hist_kws = {'edgecolor':'black'})\n",
    "    plt.title('distribution of {}'.format(i))\n",
    "    plt.show()"
   ]
  }
 ],
 "metadata": {
  "kernelspec": {
   "display_name": "Python 3 (ipykernel)",
   "language": "python",
   "name": "python3"
  },
  "language_info": {
   "codemirror_mode": {
    "name": "ipython",
    "version": 3
   },
   "file_extension": ".py",
   "mimetype": "text/x-python",
   "name": "python",
   "nbconvert_exporter": "python",
   "pygments_lexer": "ipython3",
   "version": "3.8.8"
  }
 },
 "nbformat": 4,
 "nbformat_minor": 5
}
