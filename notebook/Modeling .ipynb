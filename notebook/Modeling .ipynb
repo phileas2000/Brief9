{
 "cells": [
  {
   "cell_type": "markdown",
   "id": "596b21ef",
   "metadata": {},
   "source": [
    "<div style=\"display: flex; background-color: RGB(255,114,0);\" >\n",
    "<h1 style=\"margin: auto; padding: 30px; \">Brief 9 -  </h1>\n",
    "</div>"
   ]
  },
  {
   "cell_type": "markdown",
   "id": "5d9461bc",
   "metadata": {},
   "source": [
    "<div style=\"border: 1px solid RGB(51,165,182);\" >\n",
    "<h3 style=\"margin: auto; padding: 20px; color: RGB(51,165,182); \"> Importation des librairies</h3>\n",
    "</div>"
   ]
  },
  {
   "cell_type": "code",
   "execution_count": 2,
   "id": "44f31289",
   "metadata": {},
   "outputs": [],
   "source": [
    "%load_ext autoreload\n",
    "%autoreload 2\n",
    "import pandas as pd\n",
    "import numpy as np\n",
    "from pathlib import Path\n",
    "import matplotlib.pyplot as plt\n",
    "import seaborn as sns\n",
    "import pickle\n",
    "import warnings\n",
    "from sklearn.metrics import mean_squared_error as mse\n",
    "from sklearn.metrics import r2_score \n",
    "from sklearn.metrics import mean_absolute_error as mae\n",
    "from sklearn.metrics import classification_report, confusion_matrix, roc_curve, roc_auc_score,auc, accuracy_score, make_scorer\n",
    "from sklearn.model_selection import train_test_split\n",
    "from sklearn.model_selection import GridSearchCV\n",
    "from sklearn.model_selection import RandomizedSearchCV\n",
    "from sklearn.model_selection  import cross_val_score\n",
    "from sklearn.preprocessing import MaxAbsScaler\n",
    "from sklearn.preprocessing import RobustScaler\n",
    "from sklearn.ensemble import GradientBoostingRegressor\n",
    "from sklearn.ensemble import RandomForestRegressor\n",
    "from sklearn.tree import DecisionTreeRegressor\n",
    "from sklearn.neighbors import KNeighborsRegressor\n",
    "from sklearn.linear_model import Ridge  \n",
    "from sklearn.linear_model import Lasso  \n",
    "from xgboost import XGBRegressor\n",
    "from sklearn.linear_model import SGDRegressor\n",
    "from sklearn.linear_model import LinearRegression\n",
    "from math import sqrt\n",
    "warnings.filterwarnings(\"ignore\")"
   ]
  },
  {
   "cell_type": "code",
   "execution_count": 4,
   "id": "66aa6d83",
   "metadata": {},
   "outputs": [],
   "source": [
    "data = pd.read_csv(r'../../data/CURATED/df_final.csv', encoding=\"UTF8\", sep=',')"
   ]
  },
  {
   "cell_type": "code",
   "execution_count": 5,
   "id": "74260d98",
   "metadata": {},
   "outputs": [],
   "source": [
    "df = data.copy()\n",
    "df.drop(columns=['Id'], inplace=True)"
   ]
  },
  {
   "cell_type": "markdown",
   "id": "8d2d76c5",
   "metadata": {},
   "source": [
    "<div style=\"border: 1px solid RGB(51,165,182);\" >\n",
    "<h3 style=\"margin: auto; padding: 20px; color: RGB(51,165,182); \"> Train and Test Splits</h3>\n",
    "</div>"
   ]
  },
  {
   "cell_type": "code",
   "execution_count": 6,
   "id": "88e0fa91",
   "metadata": {},
   "outputs": [],
   "source": [
    "for col in ['valeur','surf_bati','surf terr']:\n",
    "    df[col]=np.log10(df[col])\n",
    "df.replace([np.inf, -np.inf], -1, inplace=True) \n"
   ]
  },
  {
   "cell_type": "code",
   "execution_count": 7,
   "id": "8eac51c3",
   "metadata": {},
   "outputs": [],
   "source": [
    "scalery = MaxAbsScaler()\n",
    "scalerx = MaxAbsScaler()\n",
    "\n",
    "zz = pd.get_dummies(df['local'])\n",
    "yy = pd.DataFrame(df['valeur'])\n",
    "XX = df.drop(['local','valeur'], axis=1)\n",
    "\n",
    "y = scalery.fit_transform(yy.values)\n",
    "X = pd.concat([pd.DataFrame(scalerx.fit_transform(XX), columns= XX.columns),zz], axis=1)\n",
    "\n",
    "X_train, X_test, y_train, y_test = train_test_split(X, y, test_size=0.2)"
   ]
  },
  {
   "cell_type": "markdown",
   "id": "32b32b32",
   "metadata": {},
   "source": [
    "<div style=\"border: 1px solid RGB(51,165,182);\" >\n",
    "<h3 style=\"margin: auto; padding: 20px; color: RGB(51,165,182); \"> Model-1 Linear Regression </h3>\n",
    "</div>"
   ]
  },
  {
   "cell_type": "code",
   "execution_count": 6,
   "id": "5ffb4ae3",
   "metadata": {},
   "outputs": [],
   "source": [
    "regresseur = LinearRegression(fit_intercept=True)\n",
    "regresseur.fit(X_train,y_train)\n",
    "y_pred=regresseur.predict(X_test)"
   ]
  },
  {
   "cell_type": "code",
   "execution_count": 7,
   "id": "fcea65d9",
   "metadata": {},
   "outputs": [
    {
     "name": "stdout",
     "output_type": "stream",
     "text": [
      " Results for linear Regression:\n",
      "*******************************\n",
      "MAE: 0.016388553809028254\n",
      "R-squared: 0.627540245059448\n",
      "RMSE: 0.023612547405599617\n"
     ]
    }
   ],
   "source": [
    "print(\" Results for linear Regression:\")\n",
    "print(\"*******************************\")\n",
    "print('MAE:', mae(y_test, y_pred))\n",
    "print('R-squared:', r2_score(y_test, y_pred))\n",
    "print('RMSE:', np.sqrt(mse(y_test, y_pred)))"
   ]
  },
  {
   "cell_type": "markdown",
   "id": "1a021264",
   "metadata": {},
   "source": [
    "<div style=\"border: 1px solid RGB(51,165,182);\" >\n",
    "<h3 style=\"margin: auto; padding: 20px; color: RGB(51,165,182); \"> Model-2 Ridge Regression </h3>\n",
    "</div>"
   ]
  },
  {
   "cell_type": "code",
   "execution_count": 8,
   "id": "a94c7db8",
   "metadata": {},
   "outputs": [
    {
     "data": {
      "text/plain": [
       "GridSearchCV(cv=10, estimator=Ridge(), n_jobs=-1,\n",
       "             param_grid={'alpha': [0.01, 0.05, 0.1, 0.5, 1, 10]},\n",
       "             scoring='neg_mean_absolute_error')"
      ]
     },
     "execution_count": 8,
     "metadata": {},
     "output_type": "execute_result"
    }
   ],
   "source": [
    "params = {'alpha': [0.01, 0.05, 0.1, 0.5,1,10]}\n",
    "model = GridSearchCV(Ridge(), params, scoring = 'neg_mean_absolute_error', cv=10, n_jobs=-1)\n",
    "model.fit(X_train, y_train)"
   ]
  },
  {
   "cell_type": "code",
   "execution_count": 17,
   "id": "0e8c40e3",
   "metadata": {},
   "outputs": [
    {
     "data": {
      "text/plain": [
       "Ridge(alpha=0.01)"
      ]
     },
     "execution_count": 17,
     "metadata": {},
     "output_type": "execute_result"
    }
   ],
   "source": [
    "model.best_estimator_"
   ]
  },
  {
   "cell_type": "code",
   "execution_count": 14,
   "id": "0c5c30a9",
   "metadata": {},
   "outputs": [],
   "source": [
    "y_train_pred = model.predict(X_train)\n",
    "y_pred = model.predict(X_test)"
   ]
  },
  {
   "cell_type": "code",
   "execution_count": 15,
   "id": "05a4bf5b",
   "metadata": {},
   "outputs": [
    {
     "name": "stdout",
     "output_type": "stream",
     "text": [
      "Train Results for Ridge Regression:\n",
      "*******************************\n",
      "RMSE:  0.023966772856505277\n",
      "R-squared:  0.6205538277005892\n",
      "MAE:  0.016487763390486864\n"
     ]
    }
   ],
   "source": [
    "#Train\n",
    "print(\"Train Results for Ridge Regression:\")\n",
    "print(\"*******************************\")\n",
    "print(\"RMSE: \", sqrt(mse(y_train, y_train_pred)))\n",
    "print(\"R-squared: \", r2_score(y_train, y_train_pred))\n",
    "print(\"MAE: \", mae(y_train, y_train_pred))"
   ]
  },
  {
   "cell_type": "code",
   "execution_count": 16,
   "id": "af3b2dce",
   "metadata": {},
   "outputs": [
    {
     "name": "stdout",
     "output_type": "stream",
     "text": [
      "Test Results for Ridge Regression:\n",
      "*******************************\n",
      "RMSE:  0.023845463136974266\n",
      "R-squared:  0.6256679665534641\n",
      "MAE:  0.016467661855520094\n"
     ]
    }
   ],
   "source": [
    "#Test\n",
    "print(\"Test Results for Ridge Regression:\")\n",
    "print(\"*******************************\")\n",
    "print(\"RMSE: \", sqrt(mse(y_test, y_pred)))\n",
    "print(\"R-squared: \", r2_score(y_test, y_pred))\n",
    "print(\"MAE: \", mae(y_test, y_pred))"
   ]
  },
  {
   "cell_type": "code",
   "execution_count": 19,
   "id": "004e8aeb",
   "metadata": {},
   "outputs": [
    {
     "data": {
      "text/plain": [
       "Ridge(alpha=0.01)"
      ]
     },
     "execution_count": 19,
     "metadata": {},
     "output_type": "execute_result"
    }
   ],
   "source": [
    "model = Ridge(alpha=0.01)\n",
    "model.fit(X_train, y_train)"
   ]
  },
  {
   "cell_type": "code",
   "execution_count": 20,
   "id": "ff0f979b",
   "metadata": {},
   "outputs": [
    {
     "name": "stdout",
     "output_type": "stream",
     "text": [
      "The features in order of importance are:\n",
      "--------------------------------------------------\n",
      "['nbr_piece' 'Appartement' 'tot_lot' 'Dépendance'\n",
      " 'Local industriel. commercial ou assimilé' 'Maison' 'Terrain' 'prix_m2'\n",
      " 'surf_bati' 'Terrain' 'Seul' 'Lotissement' 'surf terr' 'Batiment'\n",
      " 'typ_lot' 'Centre commercial' 'mix']\n"
     ]
    }
   ],
   "source": [
    "indices = np.argsort(-abs(model.coef_))\n",
    "print(\"The features in order of importance are:\")\n",
    "print(50*'-')\n",
    "for feature in X.columns[indices]:\n",
    "    print(feature)"
   ]
  },
  {
   "cell_type": "markdown",
   "id": "b4dcc5c2",
   "metadata": {},
   "source": [
    "<div style=\"border: 1px solid RGB(51,165,182);\" >\n",
    "<h3 style=\"margin: auto; padding: 20px; color: RGB(51,165,182); \"> Model-3 Lasso Regression </h3>\n",
    "</div>"
   ]
  },
  {
   "cell_type": "code",
   "execution_count": 15,
   "id": "192a4b7e",
   "metadata": {},
   "outputs": [
    {
     "data": {
      "text/plain": [
       "GridSearchCV(cv=20, estimator=Lasso(), n_jobs=-1,\n",
       "             param_grid={'alpha': [1000, 10000]},\n",
       "             scoring='neg_mean_absolute_error')"
      ]
     },
     "execution_count": 15,
     "metadata": {},
     "output_type": "execute_result"
    }
   ],
   "source": [
    "params = {'alpha': [1000, 10000]}\n",
    "model = GridSearchCV(Lasso(), params, scoring = 'neg_mean_absolute_error', cv=20, n_jobs=-1)\n",
    "model.fit(X_train, y_train)"
   ]
  },
  {
   "cell_type": "code",
   "execution_count": 16,
   "id": "95f38992",
   "metadata": {},
   "outputs": [
    {
     "data": {
      "text/plain": [
       "Lasso(alpha=1000)"
      ]
     },
     "execution_count": 16,
     "metadata": {},
     "output_type": "execute_result"
    }
   ],
   "source": [
    "model.best_estimator_"
   ]
  },
  {
   "cell_type": "code",
   "execution_count": 17,
   "id": "25d69194",
   "metadata": {},
   "outputs": [],
   "source": [
    "y_train_pred = model.predict(X_train)\n",
    "y_pred = model.predict(X_test)"
   ]
  },
  {
   "cell_type": "code",
   "execution_count": 18,
   "id": "5bb84df6",
   "metadata": {},
   "outputs": [
    {
     "name": "stdout",
     "output_type": "stream",
     "text": [
      "Train Results for Lasso Regression:\n",
      "*******************************\n",
      "RMSE:  0.03897820677856909\n",
      "R-squared:  0.0\n",
      "MAE:  0.029475223142339406\n"
     ]
    }
   ],
   "source": [
    "#Train\n",
    "print(\"Train Results for Lasso Regression:\")\n",
    "print(\"*******************************\")\n",
    "print(\"RMSE: \", sqrt(mse(y_train, y_train_pred)))\n",
    "print(\"R-squared: \", r2_score(y_train, y_train_pred))\n",
    "print(\"MAE: \", mae(y_train, y_train_pred))"
   ]
  },
  {
   "cell_type": "code",
   "execution_count": 19,
   "id": "3f1ffd4c",
   "metadata": {},
   "outputs": [
    {
     "name": "stdout",
     "output_type": "stream",
     "text": [
      "Test Results for Lasso Regression:\n",
      "*******************************\n",
      "RMSE:  0.038691136125667554\n",
      "R-squared:  -3.8298600816277784e-05\n",
      "MAE:  0.029268858987282747\n"
     ]
    }
   ],
   "source": [
    "#Test\n",
    "print(\"Test Results for Lasso Regression:\")\n",
    "print(\"*******************************\")\n",
    "print(\"RMSE: \", sqrt(mse(y_test, y_pred)))\n",
    "print(\"R-squared: \", r2_score(y_test, y_pred))\n",
    "print(\"MAE: \", mae(y_test, y_pred))"
   ]
  },
  {
   "cell_type": "code",
   "execution_count": 20,
   "id": "e6396549",
   "metadata": {},
   "outputs": [
    {
     "data": {
      "text/plain": [
       "Lasso(alpha=1000)"
      ]
     },
     "execution_count": 20,
     "metadata": {},
     "output_type": "execute_result"
    }
   ],
   "source": [
    "model = Lasso(alpha=1000)\n",
    "model.fit(X_train, y_train)"
   ]
  },
  {
   "cell_type": "code",
   "execution_count": 21,
   "id": "4ba8f395",
   "metadata": {},
   "outputs": [
    {
     "name": "stdout",
     "output_type": "stream",
     "text": [
      "The features in order of importance are:\n",
      "--------------------------------------------------\n",
      "Appartement\n",
      "Seul\n",
      "Lotissement\n",
      "Centre commercial\n",
      "Batiment\n",
      "prix_m2\n",
      "surf terr\n",
      "Terrain\n",
      "surf_bati\n",
      "tot_lot\n",
      "nbr_piece\n",
      "Terrain\n",
      "Maison\n",
      "Local industriel. commercial ou assimilé\n",
      "Dépendance\n",
      "typ_lot\n",
      "mix\n"
     ]
    }
   ],
   "source": [
    "indices = np.argsort(-abs(model.coef_))\n",
    "print(\"The features in order of importance are:\")\n",
    "print(50*'-')\n",
    "for feature in X.columns[indices]:\n",
    "    print(feature)"
   ]
  },
  {
   "cell_type": "markdown",
   "id": "6622266f",
   "metadata": {},
   "source": [
    "<div style=\"border: 1px solid RGB(51,165,182);\" >\n",
    "<h3 style=\"margin: auto; padding: 20px; color: RGB(51,165,182); \"> Model-4 Random Forest Regression </h3>\n",
    "</div>"
   ]
  },
  {
   "cell_type": "code",
   "execution_count": 22,
   "id": "9af52fec",
   "metadata": {},
   "outputs": [],
   "source": [
    "acc_scorer = make_scorer(accuracy_score)\n",
    "params = {'n_estimators': [50,100], 'min_samples_split': [5, 10], 'min_samples_leaf': [2, 4], 'max_depth': [10,15]}\n",
    "model =  GridSearchCV(RandomForestRegressor(), params, \n",
    "                           scoring = acc_scorer, cv=5, n_jobs=-1)"
   ]
  },
  {
   "cell_type": "code",
   "execution_count": null,
   "id": "5aeca464",
   "metadata": {},
   "outputs": [],
   "source": [
    "model.best_estimator_"
   ]
  },
  {
   "cell_type": "code",
   "execution_count": 29,
   "id": "498fed82",
   "metadata": {},
   "outputs": [
    {
     "data": {
      "text/plain": [
       "RandomForestRegressor(min_samples_leaf=2, min_samples_split=5,\n",
       "                      n_estimators=1000)"
      ]
     },
     "execution_count": 29,
     "metadata": {},
     "output_type": "execute_result"
    }
   ],
   "source": [
    "model.fit(X_train, y_train)"
   ]
  },
  {
   "cell_type": "code",
   "execution_count": 28,
   "id": "1c0d731b",
   "metadata": {},
   "outputs": [],
   "source": [
    "model = RandomForestRegressor(min_samples_leaf=2, min_samples_split=5, n_estimators=1000)"
   ]
  },
  {
   "cell_type": "code",
   "execution_count": 30,
   "id": "b45ac8eb",
   "metadata": {},
   "outputs": [],
   "source": [
    "y_train_pred = model.predict(X_train)\n",
    "y_pred = model.predict(X_test)"
   ]
  },
  {
   "cell_type": "code",
   "execution_count": 31,
   "id": "48048144",
   "metadata": {},
   "outputs": [
    {
     "name": "stdout",
     "output_type": "stream",
     "text": [
      "Train Results for RandomForest Regression:\n",
      "*******************************\n",
      "RMSE:  0.0003009330654278548\n",
      "R-squared:  0.9999403931587674\n",
      "MAE:  3.2565236412892644e-05\n"
     ]
    }
   ],
   "source": [
    "#Train\n",
    "print(\"Train Results for RandomForest Regression:\")\n",
    "print(\"*******************************\")\n",
    "print(\"RMSE: \", sqrt(mse(y_train, y_train_pred)))\n",
    "print(\"R-squared: \", r2_score(y_train, y_train_pred))\n",
    "print(\"MAE: \", mae(y_train, y_train_pred))"
   ]
  },
  {
   "cell_type": "code",
   "execution_count": 32,
   "id": "0a825e71",
   "metadata": {},
   "outputs": [
    {
     "name": "stdout",
     "output_type": "stream",
     "text": [
      "Test Results for RandomForest Regression:\n",
      "*******************************\n",
      "RMSE:  0.0004723171899729796\n",
      "R-squared:  0.9998509742996404\n",
      "MAE:  5.692348164098807e-05\n"
     ]
    }
   ],
   "source": [
    "#Test\n",
    "print(\"Test Results for RandomForest Regression:\")\n",
    "print(\"*******************************\")\n",
    "print(\"RMSE: \", sqrt(mse(y_test, y_pred)))\n",
    "print(\"R-squared: \", r2_score(y_test, y_pred))\n",
    "print(\"MAE: \", mae(y_test, y_pred))"
   ]
  },
  {
   "cell_type": "code",
   "execution_count": null,
   "id": "dc6f54d2",
   "metadata": {},
   "outputs": [],
   "source": [
    "indices = np.argsort(-model.feature_importances_)\n",
    "print(\"The features in order of importance are:\")\n",
    "print(50*'-')\n",
    "for feature in X.columns[indices]:\n",
    "    print(feature)"
   ]
  },
  {
   "cell_type": "markdown",
   "id": "1553b224",
   "metadata": {},
   "source": [
    "<div style=\"border: 1px solid RGB(51,165,182);\" >\n",
    "<h3 style=\"margin: auto; padding: 20px; color: RGB(51,165,182); \"> Model-5 Descision Tree Regression </h3>\n",
    "</div>"
   ]
  },
  {
   "cell_type": "code",
   "execution_count": null,
   "id": "b172c866",
   "metadata": {},
   "outputs": [],
   "source": [
    "params = {'min_samples_split': [2,4], 'min_samples_leaf': [5,10], 'max_depth': [10,15]}\n",
    "model = RandomizedSearchCV(DecisionTreeRegressor(), params, n_iter=20, scoring = 'neg_mean_absolute_error', cv=10, n_jobs=-1)\n",
    "model.fit(X_train, y_train)"
   ]
  },
  {
   "cell_type": "code",
   "execution_count": null,
   "id": "da18283f",
   "metadata": {},
   "outputs": [],
   "source": [
    "model.best_estimator_"
   ]
  },
  {
   "cell_type": "code",
   "execution_count": null,
   "id": "64742100",
   "metadata": {},
   "outputs": [],
   "source": [
    "y_train_pred = model.predict(X_train)\n",
    "y_pred = model.predict(X_test)"
   ]
  },
  {
   "cell_type": "code",
   "execution_count": null,
   "id": "5dd5cc6e",
   "metadata": {},
   "outputs": [],
   "source": [
    "#Train\n",
    "print(\"Train Results for DecisionTree Regression:\")\n",
    "print(\"*******************************\")\n",
    "print(\"RMSE: \", sqrt(mse(y_train, y_train_pred)))\n",
    "print(\"R-squared: \", r2_score(y_train, y_train_pred))\n",
    "print(\"MAE: \", mae(y_train, y_train_pred))"
   ]
  },
  {
   "cell_type": "code",
   "execution_count": null,
   "id": "8717604f",
   "metadata": {},
   "outputs": [],
   "source": [
    "#Test\n",
    "print(\"Test Results for DecisionTree Regression:\")\n",
    "print(\"*******************************\")\n",
    "print(\"RMSE: \", sqrt(mse(y_test, y_pred)))\n",
    "print(\"R-squared: \", r2_score(y_test, y_pred))\n",
    "print(\"MAE: \", mae(y_test, y_pred))"
   ]
  },
  {
   "cell_type": "markdown",
   "id": "c3e76f77",
   "metadata": {},
   "source": [
    "<div style=\"border: 1px solid RGB(51,165,182);\" >\n",
    "<h3 style=\"margin: auto; padding: 20px; color: RGB(51,165,182); \"> Model-6 KNN Regression </h3>\n",
    "</div>"
   ]
  },
  {
   "cell_type": "code",
   "execution_count": null,
   "id": "39706256",
   "metadata": {},
   "outputs": [],
   "source": [
    "# creating odd list of K for KNN\n",
    "neighbors = list(range(1,50,2))\n",
    "# empty list that will hold cv scores\n",
    "cv_scores = []\n",
    "\n",
    "# perform 10-fold cross validation\n",
    "for k in neighbors:\n",
    "    knn = KNeighborsRegressor(n_neighbors=k)\n",
    "    scores = cross_val_score(knn, X_train, y_train, cv=10, scoring='neg_mean_absolute_error')\n",
    "    cv_scores.append(scores.mean())\n",
    "\n",
    "# changing to misclassification error\n",
    "MSE = [1 - x for x in cv_scores]\n",
    "\n",
    "# determining best k\n",
    "optimal_k = neighbors[MSE.index(min(MSE))]\n",
    "print('\\nThe optimal number of neighbors is %d.' % optimal_k)"
   ]
  },
  {
   "cell_type": "code",
   "execution_count": null,
   "id": "c1eac324",
   "metadata": {},
   "outputs": [],
   "source": [
    "model = KNeighborsRegressor(n_neighbors = optimal_k)\n",
    "model.fit(X_train, y_train)\n",
    "y_train_pred = model.predict(X_train)\n",
    "y_pred = model.predict(X_test)"
   ]
  },
  {
   "cell_type": "code",
   "execution_count": null,
   "id": "2e1bb907",
   "metadata": {},
   "outputs": [],
   "source": [
    "#Train\n",
    "print(\"Train Results for KNN Regression:\")\n",
    "print(\"*******************************\")\n",
    "print(\"RMSE: \", sqrt(mse(y_train.values, y_train_pred)))\n",
    "print(\"R-squared: \", r2_score(y_train.values, y_train_pred))\n",
    "print(\"MAE: \", mae(y_train.values, y_train_pred))"
   ]
  },
  {
   "cell_type": "code",
   "execution_count": null,
   "id": "40ff5a0a",
   "metadata": {},
   "outputs": [],
   "source": [
    "#Test\n",
    "print(\"Test Results for KNN Regression:\")\n",
    "print(\"*******************************\")\n",
    "print(\"RMSE: \", sqrt(mse(y_test, y_pred)))\n",
    "print(\"R-squared: \", r2_score(y_test, y_pred))\n",
    "print(\"MAE: \", mae(y_test, y_pred))"
   ]
  },
  {
   "cell_type": "markdown",
   "id": "e7d6dd0c",
   "metadata": {},
   "source": [
    "<div style=\"border: 1px solid RGB(51,165,182);\" >\n",
    "<h3 style=\"margin: auto; padding: 20px; color: RGB(51,165,182); \"> Model-7 XGBoost Regression </h3>\n",
    "</div>"
   ]
  },
  {
   "cell_type": "code",
   "execution_count": 49,
   "id": "6f511f8c",
   "metadata": {},
   "outputs": [],
   "source": [
    "params = {'max_depth': [10,15], 'learning_rate': [0.01, 0.1], 'n_estimators': [500,600], 'reg_lambda': [100.0]}\n",
    "model = RandomizedSearchCV(XGBRegressor(), params, n_iter=20, scoring = 'neg_mean_absolute_error', cv=5, n_jobs=-1)"
   ]
  },
  {
   "cell_type": "code",
   "execution_count": null,
   "id": "bb0ed4f2",
   "metadata": {},
   "outputs": [],
   "source": [
    "model.fit(X_train, y_train)"
   ]
  },
  {
   "cell_type": "code",
   "execution_count": null,
   "id": "9dd55edb",
   "metadata": {},
   "outputs": [],
   "source": [
    "y_train_pred = model.predict(X_train)\n",
    "y_pred = model.predict(X_test)"
   ]
  },
  {
   "cell_type": "markdown",
   "id": "9f2c1467",
   "metadata": {},
   "source": [
    "yert = model.predict(X_test[0].reshape(1, -1))"
   ]
  },
  {
   "cell_type": "code",
   "execution_count": null,
   "id": "704f8d07",
   "metadata": {},
   "outputs": [],
   "source": [
    "#Train\n",
    "print(\"Train Results for XGBoost Regression:\")\n",
    "print(\"*******************************\")\n",
    "print(\"RMSE: \", sqrt(mse(y_train, y_train_pred)))\n",
    "print(\"R-squared: \", r2_score(y_train, y_train_pred))\n",
    "print(\"MAE: \", mae(y_train, y_train_pred))"
   ]
  },
  {
   "cell_type": "code",
   "execution_count": null,
   "id": "e96137e2",
   "metadata": {},
   "outputs": [],
   "source": [
    "#Test\n",
    "print(\"Test Results for XGBoost Regression:\")\n",
    "print(\"*******************************\")\n",
    "print(\"RMSE: \", sqrt(mse(y_test, y_pXGBoostred)))\n",
    "print(\"R-squared: \", r2_score(y_test, y_pred))\n",
    "print(\"MAE: \", mae(y_test, y_pred))"
   ]
  },
  {
   "cell_type": "markdown",
   "id": "21b01289",
   "metadata": {},
   "source": [
    "<div style=\"border: 1px solid RGB(51,165,182);\" >\n",
    "<h3 style=\"margin: auto; padding: 20px; color: RGB(51,165,182); \"> Model-7 SGD Regression </h3>\n",
    "</div>"
   ]
  },
  {
   "cell_type": "code",
   "execution_count": null,
   "id": "abcf6285",
   "metadata": {},
   "outputs": [],
   "source": [
    "SGD = SGDRegressor(max_iter = 100)\n",
    "SGD.fit(X, y)\n",
    "r2_score(SGD.predict(X), y)"
   ]
  },
  {
   "cell_type": "code",
   "execution_count": null,
   "id": "819d3304",
   "metadata": {},
   "outputs": [],
   "source": []
  },
  {
   "cell_type": "code",
   "execution_count": null,
   "id": "81478382",
   "metadata": {},
   "outputs": [],
   "source": []
  }
 ],
 "metadata": {
  "kernelspec": {
   "display_name": "Python 3 (ipykernel)",
   "language": "python",
   "name": "python3"
  },
  "language_info": {
   "codemirror_mode": {
    "name": "ipython",
    "version": 3
   },
   "file_extension": ".py",
   "mimetype": "text/x-python",
   "name": "python",
   "nbconvert_exporter": "python",
   "pygments_lexer": "ipython3",
   "version": "3.8.8"
  }
 },
 "nbformat": 4,
 "nbformat_minor": 5
}
