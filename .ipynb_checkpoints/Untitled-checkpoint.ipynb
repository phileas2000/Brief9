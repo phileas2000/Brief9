{
 "cells": [
  {
   "cell_type": "code",
   "execution_count": 1,
   "id": "fc17a9f8",
   "metadata": {},
   "outputs": [],
   "source": [
    "import pandas as pd\n",
    "from sklearn.model_selection import train_test_split\n",
    "from sklearn.preprocessing import MaxAbsScaler\n",
    "from sklearn.ensemble import RandomForestRegressor\n",
    "from sklearn.model_selection import GridSearchCV\n",
    "import pickle\n",
    "from xgboost import XGBRegressor\n",
    "from sklearn.metrics import mean_squared_error as mse\n",
    "from sklearn.metrics import r2_score \n",
    "from sklearn.metrics import mean_absolute_error as mae"
   ]
  },
  {
   "cell_type": "code",
   "execution_count": 2,
   "id": "ae80b111",
   "metadata": {},
   "outputs": [],
   "source": [
    "df = pd.read_csv(r'../data/CURATED/df_final.csv', encoding=\"UTF8\")"
   ]
  },
  {
   "cell_type": "code",
   "execution_count": 3,
   "id": "3e016c13",
   "metadata": {},
   "outputs": [],
   "source": [
    "scalX = MaxAbsScaler()\n",
    "scaly= MaxAbsScaler()"
   ]
  },
  {
   "cell_type": "code",
   "execution_count": 4,
   "id": "a190051a",
   "metadata": {},
   "outputs": [],
   "source": [
    "zz = pd.get_dummies(df['local'])\n",
    "zz = zz.rename(columns={\"Terrain\": \"terrain\"})\n",
    "yy = pd.DataFrame(df['valeur'])\n",
    "XX = df.drop(['Id','local','valeur', 'tot_lot', 'typ_lot','prix_m2'], axis=1)"
   ]
  },
  {
   "cell_type": "code",
   "execution_count": 5,
   "id": "59ac3bbc",
   "metadata": {},
   "outputs": [],
   "source": [
    "scaly.fit(yy.values)\n",
    "scalX.fit(XX)\n",
    "\n",
    "y = pd.DataFrame(scaly.transform(yy.values))\n",
    "X = pd.concat([pd.DataFrame(scalX.fit_transform(XX), columns= XX.columns),zz], axis=1)\n",
    "\n",
    "X_train, X_test, y_train, y_test = train_test_split(X, y, test_size=0.2, shuffle=True)"
   ]
  },
  {
   "cell_type": "code",
   "execution_count": 7,
   "id": "eeb9a15d",
   "metadata": {},
   "outputs": [],
   "source": [
    "params = {'n_estimators': [50,100, 200], 'min_samples_split': [5, 10, 20], 'min_samples_leaf': [2, 4, 8], 'max_depth': [10, 15, 25]}\n",
    "RFR = GridSearchCV(RandomForestRegressor(), params, scoring = 'neg_mean_absolute_error', cv=5, n_jobs=-1)"
   ]
  },
  {
   "cell_type": "code",
   "execution_count": null,
   "id": "e7fa33bd",
   "metadata": {},
   "outputs": [],
   "source": [
    "RFR.fit(X_train,y_train)"
   ]
  },
  {
   "cell_type": "code",
   "execution_count": null,
   "id": "76d41583",
   "metadata": {},
   "outputs": [],
   "source": [
    "RFR.best_estimator_"
   ]
  },
  {
   "cell_type": "code",
   "execution_count": null,
   "id": "58d6387a",
   "metadata": {},
   "outputs": [],
   "source": [
    "y_train_pred = XGBR.predict(X_train)\n",
    "y_test_pred = XGBR.predict(X_test)"
   ]
  },
  {
   "cell_type": "code",
   "execution_count": null,
   "id": "ca1352ac",
   "metadata": {},
   "outputs": [],
   "source": [
    "#RFR\n",
    "print(\"R-squared: \", r2_score(y_train, y_train_pred))\n",
    "print(\"R-squared: \", r2_score(y_test, y_test_pred))"
   ]
  },
  {
   "cell_type": "code",
   "execution_count": null,
   "id": "4b464f5e",
   "metadata": {},
   "outputs": [],
   "source": [
    "#XGBR\n",
    "print(\"R-squared: \", r2_score(y_train, y_train_pred))\n",
    "print(\"R-squared: \", r2_score(y_test, y_test_pred))"
   ]
  },
  {
   "cell_type": "code",
   "execution_count": null,
   "id": "94a76be5",
   "metadata": {},
   "outputs": [],
   "source": [
    "pickle.dump(XGBR,open('model_XGBR.pkl','wb'))"
   ]
  },
  {
   "cell_type": "code",
   "execution_count": null,
   "id": "78498df7",
   "metadata": {},
   "outputs": [],
   "source": [
    "pickle.dump(RFR,open('model.pkl','wb'))"
   ]
  },
  {
   "cell_type": "code",
   "execution_count": 6,
   "id": "ead714eb",
   "metadata": {},
   "outputs": [],
   "source": [
    "pickle.dump(scalX,open('scalerX.pkl','wb'))\n",
    "pickle.dump(scaly,open('scalery.pkl','wb'))"
   ]
  },
  {
   "cell_type": "code",
   "execution_count": null,
   "id": "975401f0",
   "metadata": {},
   "outputs": [],
   "source": []
  }
 ],
 "metadata": {
  "kernelspec": {
   "display_name": "Python 3 (ipykernel)",
   "language": "python",
   "name": "python3"
  },
  "language_info": {
   "codemirror_mode": {
    "name": "ipython",
    "version": 3
   },
   "file_extension": ".py",
   "mimetype": "text/x-python",
   "name": "python",
   "nbconvert_exporter": "python",
   "pygments_lexer": "ipython3",
   "version": "3.8.8"
  }
 },
 "nbformat": 4,
 "nbformat_minor": 5
}
