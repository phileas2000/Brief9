{
 "cells": [
  {
   "cell_type": "code",
   "execution_count": 1,
   "id": "a1b1ca78",
   "metadata": {},
   "outputs": [],
   "source": [
    "import pickle\n",
    "import pandas as pd"
   ]
  },
  {
   "cell_type": "code",
   "execution_count": 2,
   "id": "c34e3516",
   "metadata": {},
   "outputs": [],
   "source": [
    "model  = pickle.load(open('model_XGBR.pkl', 'rb')) \n",
    "scalerX = pickle.load(open('scalerX.pkl', 'rb'))\n",
    "scalery = pickle.load(open('scalery.pkl', 'rb'))"
   ]
  },
  {
   "cell_type": "code",
   "execution_count": 3,
   "id": "1e102564",
   "metadata": {},
   "outputs": [],
   "source": [
    "categ = [1, 0, 0, 0, 0, 0]        \n",
    "num = [ 1, 0, 0, 0, 2, 130, 50, 5]"
   ]
  },
  {
   "cell_type": "code",
   "execution_count": 4,
   "id": "723983d5",
   "metadata": {},
   "outputs": [],
   "source": [
    "df_num=pd.DataFrame(num)        \n",
    "df_categ=pd.DataFrame(categ)"
   ]
  },
  {
   "cell_type": "code",
   "execution_count": 5,
   "id": "2ade9155",
   "metadata": {},
   "outputs": [
    {
     "data": {
      "text/html": [
       "<div>\n",
       "<style scoped>\n",
       "    .dataframe tbody tr th:only-of-type {\n",
       "        vertical-align: middle;\n",
       "    }\n",
       "\n",
       "    .dataframe tbody tr th {\n",
       "        vertical-align: top;\n",
       "    }\n",
       "\n",
       "    .dataframe thead th {\n",
       "        text-align: right;\n",
       "    }\n",
       "</style>\n",
       "<table border=\"1\" class=\"dataframe\">\n",
       "  <thead>\n",
       "    <tr style=\"text-align: right;\">\n",
       "      <th></th>\n",
       "      <th>0</th>\n",
       "      <th>1</th>\n",
       "      <th>2</th>\n",
       "      <th>3</th>\n",
       "      <th>4</th>\n",
       "      <th>5</th>\n",
       "      <th>6</th>\n",
       "      <th>7</th>\n",
       "    </tr>\n",
       "  </thead>\n",
       "  <tbody>\n",
       "    <tr>\n",
       "      <th>0</th>\n",
       "      <td>0.001199</td>\n",
       "      <td>0.0</td>\n",
       "      <td>0.0</td>\n",
       "      <td>0.0</td>\n",
       "      <td>0.01087</td>\n",
       "      <td>0.046796</td>\n",
       "      <td>0.000297</td>\n",
       "      <td>4.635584e-07</td>\n",
       "    </tr>\n",
       "  </tbody>\n",
       "</table>\n",
       "</div>"
      ],
      "text/plain": [
       "          0    1    2    3        4         5         6             7\n",
       "0  0.001199  0.0  0.0  0.0  0.01087  0.046796  0.000297  4.635584e-07"
      ]
     },
     "execution_count": 5,
     "metadata": {},
     "output_type": "execute_result"
    }
   ],
   "source": [
    "numscal=pd.DataFrame(scalerX.transform(df_num.values.reshape(1, -1)))\n",
    "numscal"
   ]
  },
  {
   "cell_type": "code",
   "execution_count": 7,
   "id": "a6e72163",
   "metadata": {},
   "outputs": [
    {
     "data": {
      "text/html": [
       "<div>\n",
       "<style scoped>\n",
       "    .dataframe tbody tr th:only-of-type {\n",
       "        vertical-align: middle;\n",
       "    }\n",
       "\n",
       "    .dataframe tbody tr th {\n",
       "        vertical-align: top;\n",
       "    }\n",
       "\n",
       "    .dataframe thead th {\n",
       "        text-align: right;\n",
       "    }\n",
       "</style>\n",
       "<table border=\"1\" class=\"dataframe\">\n",
       "  <thead>\n",
       "    <tr style=\"text-align: right;\">\n",
       "      <th></th>\n",
       "      <th>0</th>\n",
       "      <th>1</th>\n",
       "      <th>2</th>\n",
       "      <th>3</th>\n",
       "      <th>4</th>\n",
       "      <th>5</th>\n",
       "      <th>0</th>\n",
       "      <th>1</th>\n",
       "      <th>2</th>\n",
       "      <th>3</th>\n",
       "      <th>4</th>\n",
       "      <th>5</th>\n",
       "      <th>6</th>\n",
       "      <th>7</th>\n",
       "    </tr>\n",
       "  </thead>\n",
       "  <tbody>\n",
       "    <tr>\n",
       "      <th>0</th>\n",
       "      <td>1</td>\n",
       "      <td>0</td>\n",
       "      <td>0</td>\n",
       "      <td>0</td>\n",
       "      <td>0</td>\n",
       "      <td>0</td>\n",
       "      <td>0.001199</td>\n",
       "      <td>0.0</td>\n",
       "      <td>0.0</td>\n",
       "      <td>0.0</td>\n",
       "      <td>0.01087</td>\n",
       "      <td>0.046796</td>\n",
       "      <td>0.000297</td>\n",
       "      <td>4.635584e-07</td>\n",
       "    </tr>\n",
       "  </tbody>\n",
       "</table>\n",
       "</div>"
      ],
      "text/plain": [
       "   0  1  2  3  4  5         0    1    2    3        4         5         6  \\\n",
       "0  1  0  0  0  0  0  0.001199  0.0  0.0  0.0  0.01087  0.046796  0.000297   \n",
       "\n",
       "              7  \n",
       "0  4.635584e-07  "
      ]
     },
     "execution_count": 7,
     "metadata": {},
     "output_type": "execute_result"
    }
   ],
   "source": [
    "ENTRE=pd.concat([df_categ.T,numscal],axis=1)\n",
    "ENTRE"
   ]
  },
  {
   "cell_type": "code",
   "execution_count": 10,
   "id": "84e1d814",
   "metadata": {},
   "outputs": [
    {
     "data": {
      "text/plain": [
       "0.001118037"
      ]
     },
     "execution_count": 10,
     "metadata": {},
     "output_type": "execute_result"
    }
   ],
   "source": [
    "prediction = model.predict(ENTRE)   \n",
    "prediction[0]"
   ]
  },
  {
   "cell_type": "code",
   "execution_count": 20,
   "id": "44cf8c5b",
   "metadata": {},
   "outputs": [
    {
     "data": {
      "text/plain": [
       "468457.53"
      ]
     },
     "execution_count": 20,
     "metadata": {},
     "output_type": "execute_result"
    }
   ],
   "source": [
    "output = abs(scalery.inverse_transform(prediction.reshape(-1, 1)))[0][0]\n",
    "output"
   ]
  },
  {
   "cell_type": "code",
   "execution_count": null,
   "id": "490ac030",
   "metadata": {},
   "outputs": [],
   "source": []
  }
 ],
 "metadata": {
  "kernelspec": {
   "display_name": "Python 3 (ipykernel)",
   "language": "python",
   "name": "python3"
  },
  "language_info": {
   "codemirror_mode": {
    "name": "ipython",
    "version": 3
   },
   "file_extension": ".py",
   "mimetype": "text/x-python",
   "name": "python",
   "nbconvert_exporter": "python",
   "pygments_lexer": "ipython3",
   "version": "3.8.8"
  }
 },
 "nbformat": 4,
 "nbformat_minor": 5
}
